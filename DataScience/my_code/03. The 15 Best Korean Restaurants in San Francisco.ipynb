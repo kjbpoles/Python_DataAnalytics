{
 "cells": [
  {
   "cell_type": "code",
   "execution_count": 1,
   "metadata": {},
   "outputs": [
    {
     "data": {
      "text/plain": [
       "<!DOCTYPE html>\n",
       "<html xmlns=\"http://www.w3.org/1999/xhtml\" xmlns:fb=\"http://www.facebook.com/2008/fbml\" xmlns:og=\"http://opengraphprotocol.org/schema/\"><head><title>The 15 Best Korean Restaurants in San Francisco</title><meta content=\"en\" http-equiv=\"Content-Language\"/><meta content=\"text/html; charset=utf-8\" http-equiv=\"Content-Type\"/><meta content=\"Foursquare\" name=\"application-name\"/><meta content=\"#0ca9c9\" name=\"msapplication-TileColor\"/><meta content=\"https://playfoursquare.s3.amazonaws.com/misc/foursquare-144-logo.png\" name=\"msapplication-TileImage\"/><meta content=\"Start the foursquare App\" name=\"msapplication-tooltip\"/><meta content=\"/\" name=\"msapplication-starturl\"/><meta content=\"width=1024;height=768\" name=\"msapplication-window\"/><meta content=\"name=Recent Check-ins; action-uri=/; icon-uri=/favicon.ico\" name=\"msapplication-task\"/><meta content=\"name=Profile;action-uri=/user;icon-uri=/favicon.ico\" name=\"msapplication-task\"/><meta content=\"name=History;action-uri=/user/history;icon-uri=/favicon.ico\" name=\"msapplication-task\"/><meta content=\"We did the research so that you don't have to. Toyose and HRD are on the list. See what other places made the cut.\" name=\"description\"/><meta content=\"The 15 Best Korean Restaurants in San Francisco\" property=\"og:title\"/><meta content=\"We did the research so that you don't have to. Toyose and HRD are on the list. See what other places made the cut.\" property=\"og:description\"/><meta content=\"article\" property=\"og:type\"/><meta content=\"https://foursquare.com/top-places/san-francisco/best-korean-restaurants\" property=\"og:url\"/><meta content=\"Foursquare\" property=\"og:site_name\"/><meta content=\"86734274142\" property=\"fb:app_id\"/><meta content=\"Foursquare,foursq,4sq,check-in,badges,explore,recommendation,local,review,tip,restaurant,bar,coffee,park,New York,San Francisco,Chicago,London,sushi,pizza,cocktails,vacation,food,search,cities\" name=\"keywords\"/><link href=\"https://ss1.4sqi.net/styles/master-214faa64c8be30f957ba123b493e4d68.css\" rel=\"stylesheet\" type=\"text/css\"/><link href=\"https://ss1.4sqi.net/styles/standalone-pages/local-query-detail-page-77e99993fbe0c9ab2304f50336dd20ab.css\" rel=\"stylesheet\" type=\"text/css\"/><link href=\"/favicon.ico\" rel=\"icon\" type=\"image/x-icon\"/><link href=\"/favicon.ico\" rel=\"shortcut icon\" type=\"image/x-icon\"/><link href=\"/img/metaIcons/touch-icon-72.png\" rel=\"apple-touch-icon-precomposed\" sizes=\"72x72\"/><link href=\"/img/metaIcons/touch-icon-76.png\" rel=\"apple-touch-icon-precomposed\" sizes=\"76x76\"/><link href=\"/img/metaIcons/touch-icon-120.png\" rel=\"apple-touch-icon-precomposed\" sizes=\"120x120\"/><link href=\"/img/metaIcons/touch-icon-144.png\" rel=\"apple-touch-icon-precomposed\" sizes=\"144x144\"/><link href=\"/img/metaIcons/touch-icon-152.png\" rel=\"apple-touch-icon-precomposed\" sizes=\"152x152\"/><link href=\"/img/metaIcons/touch-icon-167.png\" rel=\"apple-touch-icon-precomposed\" sizes=\"167x167\"/><link href=\"/img/metaIcons/touch-icon-180.png\" rel=\"apple-touch-icon-precomposed\" sizes=\"180x180\"/><link href=\"https://playfoursquare.s3.amazonaws.com/press/logo/foursquare-logo.svg\" rel=\"logo\" type=\"image/svg\"/><link href=\"/opensearch.xml\" rel=\"search\" title=\"foursquare\"/><link color=\"#f94877\" href=\"/img/metaIcons/foursquare.svg\" rel=\"mask-icon\" sizes=\"any\"/><link href=\"/top-places/san-francisco/best-korean-restaurants\" rel=\"canonical\"/><script type=\"text/javascript\">window.fourSq = window.fourSq || {}; fourSq.queue = [];</script><script type=\"text/javascript\">(function() {window.fourSq = window.fourSq || {}; window.fourSq.config = {}; window.fourSq.config.pagedata = {}; window.fourSq.config.pagedata.cachedResponses = {}; window.fourSq.config.pagedata.embedded = {}; window.fourSq.config.signup = {}; window.fourSq.config.debugLevel = function() {return fourSq.debug.Level.OFF;}; window.fourSq.config.api = {API_BASE: 'https://api.foursquare.com/', API_TOKEN: 'QEJ4AQPTMMNB413HGNZ5YDMJSHTOHZHMLZCAQCCLXIX41OMP', API_IFRAME: 'https://api.foursquare.com/xdreceiver.html', CLIENT_VERSION: '20190501', EXPLICIT_LANG: false, SIG_PARAM_NAME: 'fs-request-signature', SIG_VALUE: '4db6367a840251136b91b9f1c5bef3972a1ded31:1557225836078', RECAPTCHA_SITE_KEY: '6Ld7JBcUAAAAABp57KQtu0eJ8LUD3ZWJgKOFBPsE',}; window.fourSq.config.user = {USER_PROFILE: undefined, USER_LAT: 37.2911072, USER_LNG: 127.0089111, USER_CC: 'KR', LIST_COUNT: 0, IS_ADS_ADMIN: false, CAN_IMPERSONATE: false, IS_CONTENT_MODERATOR: false, HAS_DATA_VIZ: false, SUPERUSERLEVEL: 0, LOCALE: 'en_US', CANBULKEDITPHOTOS: false, CANVOTEONPHOTOS: false, SHOW_RECAPTCHA: true,}; window.fourSq.config.fb = {APP_ID: 86734274142, SCOPE: 'user_location,user_birthday,email,publish_actions,user_friends', API_VERSION: 'v2.3'}; window.fourSq.config.map = {MAX_ZOOM_LEVEL: 21}; window.fourSq.config.poll = {NOTIFICATIONS: false}; window.fourSq.config.enableFacebookAutologin = true; window.fourSq.config.displayGetTheAppBar = false; window.fourSq.config.showPhotoVisibility = false; window.fourSq.config.useBranchLinks = true; window.fourSq.config.customMap = true; window.fourSq.config.log = {\"timeOnPage\":{\"enabled\":false,\"pages\":[\"venue-detail\",\"user\",\"local-query-index\",\"local-query-detail\",\"venue-detail2\"]}}; window.fourSq.config.env = 'foursquare.com';document.domain = 'foursquare.com';})();</script><script src=\"https://ss1.4sqi.net/scripts/third_party/jquery-1.7.2.min-b8d64d0bc142b3f670cc0611b0aebcae.js\" type=\"text/javascript\"></script><script src=\"https://ss1.4sqi.net/scripts/build/en/leaflet/current-0c3d1252324b30da598b6a91231ecea5.js\" type=\"text/javascript\"></script><script src=\"https://ss1.4sqi.net/scripts/build/en/chrome/root-1544da7bae50d9cc0bfac739cc6d7df9.js\" type=\"text/javascript\"></script><script src=\"https://ss1.4sqi.net/scripts/build/en/foursquare/root-c060b363eb562bf4fd4927b727f57ea4.js\" type=\"text/javascript\"></script><script src=\"https://ss0.4sqi.net/scripts/build/en/foursquare/map-support-f8e8458bd8fd63240fa21331a6a242b4.js\" type=\"text/javascript\"></script><script src=\"https://ss0.4sqi.net/scripts/build/en/foursquare/local-query-detail-page-709706961f3430c69e25be45f78f8cb7.js\" type=\"text/javascript\"></script><script type=\"text/javascript\">fourSq.config.i18n = {}; fourSq.config.i18n.langs = [{\"lang\":\"en\",\"name\":\"English\"},{\"lang\":\"fr\",\"name\":\"Français\",\"host\":\"fr\"},{\"lang\":\"de\",\"name\":\"Deutsch\",\"host\":\"de\"},{\"lang\":\"id\",\"name\":\"Bahasa Indonesia\",\"host\":\"id\"},{\"lang\":\"it\",\"name\":\"Italiano\",\"host\":\"it\"},{\"lang\":\"ja\",\"name\":\"日本語\",\"host\":\"ja\"},{\"lang\":\"ko\",\"name\":\"한국어\",\"host\":\"ko\"},{\"lang\":\"pt\",\"name\":\"Português\",\"host\":\"pt\"},{\"lang\":\"ru\",\"name\":\"Русский\",\"host\":\"ru\"},{\"lang\":\"es\",\"name\":\"Español\",\"host\":\"es\"},{\"lang\":\"th\",\"name\":\"ภาษาไทย\",\"host\":\"th\"},{\"lang\":\"tr\",\"name\":\"Türkçe\",\"host\":\"tr\"}];</script><script type=\"text/javascript\">$(function() {$('a[rel*=facebox]').facebox(); fourSq.chrome.init({\"withLangAlternates\":false,\"withInfiniteScroll\":false,\"withFooter\":true,\"withAutocomplete\":true,\"withLoginContinue\":true,\"withLogoConsumerSite\":true,\"withHeaderSearch\":true,\"withUniversalNav\":false,\"withNotificationsOnRight\":false,\"withLoginButton\":true,\"withSignupButton\":true,\"withSupportChatWidget\":false,\"withExternalTrackingPixels\":false,\"withChromeTiming\":false,\"withSearchInputsForManager\":false,\"venueListingConfig\":{\"withCityLinks\":true,\"withCountryLinks\":true,\"withAlphaLinks\":true},\"withSignupModal\":true,\"googleOAuthClientId\":\"536543795324-5ckjl6hmicvjqa2v8m82otk120f0vskc.apps.googleusercontent.com\",\"withHeadJs\":true,\"richHeaderBarConfig\":{\"enabled\":true,\"useDropdownHeader\":false,\"disableQueryDrawer\":false,\"disableLocationDrawer\":false,\"hideHeaderBar\":false},\"responsiveMode\":false,\"redAlertHeaderBar\":false});});fourSq.config.bindAutocomplete = true;</script>\n",
       "<script type=\"text/javascript\">\n",
       "      var _gaq = _gaq || [];\n",
       "  \n",
       "    if (window.location.host === 'developer.foursquare.com') {\n",
       "      // no-op, these are managed through GTM\n",
       "    } else if (window.location.pathname.indexOf('/mobile/') === 0) {\n",
       "      _gaq.push(['_setAccount', 'UA-2322480-9']);\n",
       "    } else {\n",
       "      _gaq.push(['_setAccount', 'UA-2322480-5']);\n",
       "      _gaq.push(['_setSampleRate', '10']);\n",
       "    }\n",
       "  \n",
       "      _gaq.push(['_trackPageview']);\n",
       "      _gaq.push(['_trackPageLoadTime']);\n",
       "\n",
       "      (function() {\n",
       "        var ga = document.createElement('script'); ga.type = 'text/javascript'; ga.async = true;\n",
       "        ga.src = ('https:' == document.location.protocol ? 'https://' : 'http://') + 'stats.g.doubleclick.net/dc.js';\n",
       "        var s = document.getElementsByTagName('script')[0]; s.parentNode.insertBefore(ga, s);\n",
       "      })();\n",
       "\n",
       "      var _sf_startpt=(new Date()).getTime();\n",
       "      var _sf_async_config = {uid: 11280};\n",
       "      if (window.location.host != 'developer.foursquare.com') {\n",
       "        _sf_async_config.domain = 'foursquare.com';\n",
       "      }\n",
       "    </script>\n",
       "<script>\n",
       "      (function(i,s,o,g,r,a,m){i['GoogleAnalyticsObject']=r;i[r]=i[r]||function(){\n",
       "      (i[r].q=i[r].q||[]).push(arguments)},i[r].l=1*new Date();a=s.createElement(o),\n",
       "      m=s.getElementsByTagName(o)[0];a.async=1;a.src=g;m.parentNode.insertBefore(a,m)\n",
       "      })(window,document,'script','https://www.google-analytics.com/analytics.js','ga');\n",
       "  \n",
       "  if (window.location.host !== 'developer.foursquare.com' && window.location.pathname.indexOf('/mobile/') !== 0) {\n",
       "  \n",
       "        ga('create', 'UA-2322480-54', 'auto', {'sampleRate': 10});\n",
       "      \n",
       "  }\n",
       "  \n",
       "      ga('send', 'pageview');\n",
       "    </script>\n",
       "<script type=\"text/javascript\">\n",
       "\t(function(){\n",
       "      window._pxAppId = 'PX0UqK4c76';\n",
       "      var p = document.getElementsByTagName('script')[0],\n",
       "      s = document.createElement('script');\n",
       "      s.async = 1;\n",
       "      s.src = '/0UqK4c76/init.js';\n",
       "      p.parentNode.insertBefore(s,p);\n",
       "\t}());\n",
       "\t</script></head><div height=\"1\" style=\"position:fixed; top:0; left:0; display:none\" width=\"1\"><img alt=\"PxPixel\" src=\"/0UqK4c76/xhr/api/v1/collector/noScript.gif?appId=PX0UqK4c76\"/></div><body class=\"notrans withHeaderSearch\"><style type=\"text/css\">\n",
       "  .cookieBanner {\n",
       "    font-family: 'Brown-Pro-Regular';\n",
       "    font-size: 12px;\n",
       "    background: #d5d9e3;\n",
       "    box-sizing: border-box;\n",
       "    color: #5f6472;\n",
       "    display: flex;\n",
       "    height: 70px;\n",
       "    padding: 20px 30px 10px 30px;\n",
       "    position: fixed;\n",
       "    top: 0;\n",
       "    width: 100%;\n",
       "    z-index: 1000;\n",
       "  }\n",
       "  .cookieBannerText {\n",
       "    overflow: auto;\n",
       "    width: calc(100% - 30px);\n",
       "  }\n",
       "  .cookieBannerAction{\n",
       "    width: 30px;\n",
       "  }\n",
       "  .cookieBannerClose {\n",
       "    cursor: pointer;\n",
       "    font-size: 16px;\n",
       "    float: right;\n",
       "  }\n",
       "  </style><div class=\"cookieBanner\"><div class=\"cookieBannerText\">Foursquare uses cookies to provide you with an optimal experience, to personalize ads that you may see, and to help advertisers measure the results of their ad campaigns. By continuing to use our site, you accept the use of our cookies as described in our <a class=\"cookieBannerPolicy\" href=\"/legal/privacy\">privacy policy</a> and <a class=\"cookieBannerPolicy\" href=\"/legal/cookiepolicy\">cookie policy.</a></div><div class=\"cookieBannerAction\"><div class=\"cookieBannerClose\"><span>X</span></div></div></div><script type=\"text/javascript\">fourSq.cookies.CookieBanner();</script><div id=\"wrapper\"><div class=\"desktopHeaderBarDrawerContainer drawerIsShown\" id=\"desktopHeaderBarDrawerContainer\"><div class=\"desktopHeaderDrawerPlaceholder\"></div><div class=\"withDrawer consumerMode\" id=\"desktopHeader\"><div class=\"wrap\"><div class=\"leftSide\"><div class=\"logoArea\"><a href=\"/city-guide\" id=\"logo\">Foursquare City Guide</a></div><div class=\"inputs\"><form action=\"/explore\" id=\"search\" method=\"get\"><div class=\"inputSet searchInputSet withDropdownArrow\" data-placeholder=\"I'm looking for...\"><input id=\"headerBarSearch\" maxlength=\"200\" name=\"q\" placeholder=\"\" type=\"text\"/><div class=\"dropdownArrow\"><div class=\"icon\"></div></div></div><div class=\"inputSet locationInputSet\"><span class=\"locationReset\" title=\"Use your current location\"></span><input class=\"location\" id=\"headerLocationInput\" maxlength=\"200\" name=\"near\" placeholder=\"\" type=\"text\" value=\"Suwon, KR\"/></div><button class=\"submitButton\" type=\"submit\"><img alt=\"Search\" class=\"goIcon\" data-retina-url=\"https://ss0.4sqi.net/img/chrome/icon-go_foursquare8@2x-8104e4d03ad47b81f079c1f043220e75.png\" height=\"22px\" src=\"https://ss0.4sqi.net/img/chrome/icon-go_foursquare8-8345435729fdc997093a9bc1654f5569.png\" width=\"22px\"/></button></form></div></div><div class=\"rightSide\"><ul class=\"loggedOutMenu\"><li><a class=\"log btn\" href=\"/login?continue=%2Ftop-places%2Fsan-francisco%2Fbest-korean-restaurants&amp;clicked=true\">Log In</a></li><li><a class=\"sign btn\" href=\"/signup/\" id=\"signupButton\">Sign Up</a></li></ul></div></div><div class=\"desktopHeaderDrawer\"><div class=\"wrap\"><div class=\"locationPivotDrawer drawer\"><div class=\"nearbyLocationsBlock\"><div class=\"label\">Nearby:</div><ul class=\"nearbyLocations\"></ul></div><div class=\"getInspiredBlock\"><div class=\"label\">Get inspired:</div><ul class=\"inspirationalLocations\"></ul></div></div><div class=\"queryPivotDrawer drawer show\"><ul class=\"chiclets\"><li class=\"chiclet topPicks\" data-cat=\"topPicks\"><a class=\"chicletLink\" href=\"/explore?cat=topPicks\"><span class=\"chicletText\">Top Picks</span></a></li><li class=\"chiclet trending\" data-cat=\"trending\"><a class=\"chicletLink\" href=\"/explore?cat=trending\"><span class=\"chicletText\">Trending</span></a></li><li class=\"chiclet food\" data-cat=\"food\"><a class=\"chicletLink\" href=\"/explore?cat=food\"><span class=\"chicletText\">Food</span></a></li><li class=\"chiclet coffee\" data-cat=\"coffee\"><a class=\"chicletLink\" href=\"/explore?cat=coffee\"><span class=\"chicletText\">Coffee</span></a></li><li class=\"chiclet drinks\" data-cat=\"drinks\"><a class=\"chicletLink\" href=\"/explore?cat=drinks\"><span class=\"chicletText\">Nightlife</span></a></li><li class=\"chiclet arts\" data-cat=\"arts\"><a class=\"chicletLink\" href=\"/explore?cat=arts\"><span class=\"chicletText\">Fun</span></a></li><li class=\"chiclet shops\" data-cat=\"shops\"><a class=\"chicletLink\" href=\"/explore?cat=shops\"><span class=\"chicletText\">Shopping</span></a></li></ul></div></div></div></div></div><div class=\"wrap\" id=\"container\"><div class=\"localQueryDetail\"><div class=\"map\"><div class=\"photoBanner\"><div class=\"backgroundPhoto\" data-imageurl=\"https://fastly.4sqi.net/img/general/original/1402568_KnAR0rlKGFR9FMpyrt0wFmovmwczBvodIeLVYdczIdE.jpg\" style=\"background-image: url(https://fastly.4sqi.net/img/general/original/1402568_KnAR0rlKGFR9FMpyrt0wFmovmwczBvodIeLVYdczIdE.jpg);\"></div><div class=\"insetShadow\"></div></div></div><div class=\"contents\"><div class=\"inner\"><div class=\"listing titleBlock\"><div class=\"metadata topPad\"><h1 class=\"title\">The 15 Best Korean Restaurants in San Francisco</h1><span class=\"creator\"><div class=\"avatar\"><a href=\"/foursquare\"><img height=\"32\" src=\"https://ss0.4sqi.net/img/foursquare_32-1552bc2b5cdd7fb9356541b2fecc0add.png\" width=\"32\"/></a></div>Created by <a href=\"/foursquare\">Foursquare Lists</a></span><span class=\"publicationDate\"> • Published On: April 18, 2019</span><div class=\"actions\"><div class=\"buttons\"><div class=\"facebook-share-button\"><div class=\"facebook-share-button-inner\"><img class=\"facebook-share-img\" height=\"14\" src=\"https://ss1.4sqi.net/img/facebook_white_18-6875722153c5cc272e8c0a35bd2300aa.png\" width=\"14\"/><span class=\"share-text\">Share</span></div></div><a class=\"twitter-tweet-button\"><div class=\"twitter-tweet-button-inner\"><img class=\"twitter-tweet-img\" height=\"14\" src=\"https://ss0.4sqi.net/img/twitter_white_20-dddc8e223ea8cdef536fb8e9997eea92.png\" width=\"14\"/><span class=\"tweet-text\">Tweet</span></div></a></div></div><div></div></div></div><div class=\"main\"><div class=\"listing venue\" data-saved=\"false\" data-tipid=\"null\" data-venueid=\"5c687f93e1f0aa002c124962\"><div class=\"listingPhoto positive\"><div class=\"rankAndPhotoContainer\"><a class=\"venueLink\" href=\"/v/daeho/5c687f93e1f0aa002c124962\" target=\"_blank\"><img alt=\"Daeho is one of The 15 Best Korean Restaurants in San Francisco.\" class=\"photo\" data-retina-url=\"https://fastly.4sqi.net/img/general/1398x536/1402568_KnAR0rlKGFR9FMpyrt0wFmovmwczBvodIeLVYdczIdE.jpg\" src=\"https://fastly.4sqi.net/img/general/699x268/1402568_KnAR0rlKGFR9FMpyrt0wFmovmwczBvodIeLVYdczIdE.jpg\"/></a></div></div><div class=\"venueInfo\"><div class=\"name\"><p class=\"venueName\"><a class=\"venueLink\" href=\"/v/daeho/5c687f93e1f0aa002c124962\" target=\"_blank\"><span class=\"rank\">1.</span> Daeho</a></p><div class=\"rating\"><span class=\"venueScore positive\" style=\"background-color: #00B551;\" title=\"9.0/10 - People like this place\"><span>9.0</span></span></div><div class=\"meta\"><span class=\"address\">1620 Post St, San Francisco, CA</span></div><div class=\"meta adjusted\"><span class=\"unlinkedCategory\">Korean Restaurant</span><span class=\"tipCount\"> · Japantown ·  8 tips and reviews</span></div></div></div><div class=\"tip\"><p><span class=\"tippetAvatar\"><a href=\"/lhzhong\"><img alt=\"Larry Z.\" class=\"avatar\" data-retina-url=\"https://fastly.4sqi.net/img/user/64x64/124877654-4BJ1TGP0KYN0ZV4V.jpg\" height=\"32\" src=\"https://fastly.4sqi.net/img/user/32x32/124877654-4BJ1TGP0KYN0ZV4V.jpg\" title=\"Larry Z.\" width=\"32\"/></a></span><span class=\"author\">Larry Zhong: </span>Short ribs are a must get</p></div><div class=\"tip\"><p><span class=\"tippetAvatar\"><a href=\"/user/2359\"><img alt=\"Linda Y.\" class=\"avatar\" data-retina-url=\"https://fastly.4sqi.net/img/user/64x64/2359-Y4MMXAMV20CGHMSE.jpg\" height=\"32\" src=\"https://fastly.4sqi.net/img/user/32x32/2359-Y4MMXAMV20CGHMSE.jpg\" title=\"Linda Y.\" width=\"32\"/></a></span><span class=\"author\">Linda Yang: </span>Premium short rib soup with the classic milky broth!! Kalbi bibimbap is also good.</p></div><div class=\"tip\"><p><span class=\"tippetAvatar\"><a href=\"/user/435552499\"><img alt=\"Andrea S.\" class=\"avatar\" data-retina-url=\"https://fastly.4sqi.net/img/user/64x64/435552499_jcJXKrHY_UmIo10LhZKKu6sUA0ZEV5bywTrmOVejgvoOgBBfzsQ4ESHxu0Co-MLrv5jwqtAx7.jpg\" height=\"32\" src=\"https://fastly.4sqi.net/img/user/32x32/435552499_jcJXKrHY_UmIo10LhZKKu6sUA0ZEV5bywTrmOVejgvoOgBBfzsQ4ESHxu0Co-MLrv5jwqtAx7.jpg\" title=\"Andrea S.\" width=\"32\"/></a></span><span class=\"author\">Andrea Sudasassi: </span>The short rib bowl is delicious</p></div><div class=\"actions\"></div></div><div class=\"listing venue\" data-saved=\"false\" data-tipid=\"null\" data-venueid=\"4a73619af964a52050dc1fe3\"><div class=\"listingPhoto positive\"><div class=\"rankAndPhotoContainer\"><a class=\"venueLink\" href=\"/v/toyose/4a73619af964a52050dc1fe3\" target=\"_blank\"><img alt=\"Toyose is one of The 15 Best Korean Restaurants in San Francisco.\" class=\"photo\" data-retina-url=\"https://fastly.4sqi.net/img/general/1398x536/126103473_t9eO9NOSD9zye99-o4Dk60G_MPtOoG3dd__nGR9mR9I.jpg\" src=\"https://fastly.4sqi.net/img/general/699x268/126103473_t9eO9NOSD9zye99-o4Dk60G_MPtOoG3dd__nGR9mR9I.jpg\"/></a></div></div><div class=\"venueInfo\"><div class=\"name\"><p class=\"venueName\"><a class=\"venueLink\" href=\"/v/toyose/4a73619af964a52050dc1fe3\" target=\"_blank\"><span class=\"rank\">2.</span> Toyose</a></p><div class=\"rating\"><span class=\"venueScore positive\" style=\"background-color: #73CF42;\" title=\"8.8/10 - People like this place\"><span>8.8</span></span></div><div class=\"meta\"><span class=\"address\">3814 Noriega St (btwn 45th &amp; 46th Ave), San Francisco, CA</span></div><div class=\"meta adjusted\"><span class=\"unlinkedCategory\">Korean Restaurant</span><span class=\"tipCount\"> · Outer Sunset ·  89 tips and reviews</span></div></div></div><div class=\"tip\"><p><span class=\"tippetAvatar\"><a href=\"/rainarwan\"><img alt=\"Rainar W.\" class=\"avatar\" data-retina-url=\"https://fastly.4sqi.net/img/user/64x64/BKWNGAAUERMZDF3P.jpg\" height=\"32\" src=\"https://fastly.4sqi.net/img/user/32x32/BKWNGAAUERMZDF3P.jpg\" title=\"Rainar W.\" width=\"32\"/></a></span><span class=\"author\">Rainar Wan: </span>Fish cake soup really hits the spot!! Soo yummy! Don't forget the kimchee fried rice either!</p></div><div class=\"tip\"><p><span class=\"tippetAvatar\"><a href=\"/andrewteeoh\"><img alt=\"Andrew T.\" class=\"avatar\" data-retina-url=\"https://fastly.4sqi.net/img/user/64x64/X122VQDOOIHFFUU4.jpg\" height=\"32\" src=\"https://fastly.4sqi.net/img/user/32x32/X122VQDOOIHFFUU4.jpg\" title=\"Andrew T.\" width=\"32\"/></a></span><span class=\"author\">Andrew Tio: </span>If you think you're about to enter someone's garage, you're at the right place</p></div><div class=\"tip\"><p><span class=\"tippetAvatar\"><a href=\"/user/47573803\"><img alt=\"Dora T.\" class=\"avatar\" data-retina-url=\"https://fastly.4sqi.net/img/user/64x64/LZMF0KDAE1ZY30I5.jpg\" height=\"32\" src=\"https://fastly.4sqi.net/img/user/32x32/LZMF0KDAE1ZY30I5.jpg\" title=\"Dora T.\" width=\"32\"/></a></span><span class=\"author\">Dora T: </span>Kimchi fried rice.</p></div><div class=\"actions\"></div></div><div class=\"listing venue\" data-saved=\"false\" data-tipid=\"null\" data-venueid=\"4a2937f2f964a52068951fe3\"><div class=\"listingPhoto positive\"><div class=\"rankAndPhotoContainer\"><a class=\"venueLink\" href=\"/v/hrd/4a2937f2f964a52068951fe3\" target=\"_blank\"><img alt=\"HRD is one of The 15 Best Korean Restaurants in San Francisco.\" class=\"photo\" data-retina-url=\"https://fastly.4sqi.net/img/general/1398x536/385811_klmg6JNeCSO8otjzbp3UyScQtFWlrETZEh5_umiytC8.jpg\" src=\"https://fastly.4sqi.net/img/general/699x268/385811_klmg6JNeCSO8otjzbp3UyScQtFWlrETZEh5_umiytC8.jpg\"/></a></div></div><div class=\"venueInfo\"><div class=\"name\"><p class=\"venueName\"><a class=\"venueLink\" href=\"/v/hrd/4a2937f2f964a52068951fe3\" target=\"_blank\"><span class=\"rank\">3.</span> HRD</a></p><div class=\"rating\"><span class=\"venueScore positive\" style=\"background-color: #73CF42;\" title=\"8.7/10 - People like this place\"><span>8.7</span></span></div><div class=\"meta\"><span class=\"address\">521A 3rd St (btwn Bryant St &amp; S Pk Ave), San Francisco, CA</span></div><div class=\"meta adjusted\"><span class=\"unlinkedCategory\">Korean Restaurant</span><span class=\"tipCount\"> · SoMa ·  249 tips and reviews</span></div></div></div><div class=\"tip\"><p><span class=\"tippetAvatar\"><a href=\"/melicioushoney\"><img alt=\"Melissa D.\" class=\"avatar\" data-retina-url=\"https://fastly.4sqi.net/img/user/64x64/776505-D0N5H5IVPYTUOFJI.jpg\" height=\"32\" src=\"https://fastly.4sqi.net/img/user/32x32/776505-D0N5H5IVPYTUOFJI.jpg\" title=\"Melissa D.\" width=\"32\"/></a></span><span class=\"author\">Melissa Dagdagan: </span>Korean Breakfast Burrito, Loco Moco and Kimchee Burrito are all great. The staff is extremely friendly and personable! Cash only.</p></div><div class=\"tip\"><p><span class=\"tippetAvatar\"><a href=\"/user/66310\"><img alt=\"Neil R.\" class=\"avatar\" data-retina-url=\"https://fastly.4sqi.net/img/user/64x64/U3RNRCNZ0UFDTQ3Y.jpg\" height=\"32\" src=\"https://fastly.4sqi.net/img/user/32x32/U3RNRCNZ0UFDTQ3Y.jpg\" title=\"Neil R.\" width=\"32\"/></a></span><span class=\"author\">Neil Rosos: </span>Mongolian Beef Cheesesteak is the business</p></div><div class=\"tip\"><p><span class=\"tippetAvatar\"><a href=\"/superben\"><img alt=\"Benedict C.\" class=\"avatar\" data-retina-url=\"https://fastly.4sqi.net/img/user/64x64/CW0ZBK0VNUPRKMT3.jpg\" height=\"32\" src=\"https://fastly.4sqi.net/img/user/32x32/CW0ZBK0VNUPRKMT3.jpg\" title=\"Benedict C.\" width=\"32\"/></a></span><span class=\"author\">Benedict Corpuz: </span>They ask for your name, not only to call you for your food, but to conversation on a personal level. I'll definitely be a regular here.</p></div><div class=\"actions\"></div></div><div class=\"listing venue\" data-saved=\"false\" data-tipid=\"null\" data-venueid=\"4e0a83f41495b12d82382c71\"><div class=\"listingPhoto positive\"><div class=\"rankAndPhotoContainer\"><a class=\"venueLink\" href=\"/v/manna/4e0a83f41495b12d82382c71\" target=\"_blank\"><img alt=\"Manna is one of The 15 Best Korean Restaurants in San Francisco.\" class=\"photo\" data-retina-url=\"https://fastly.4sqi.net/img/general/1398x536/177745_RhkfniGAPog8K5zxN3uCKsDl0Nh4PuHLV6MXYkNc7h0.jpg\" src=\"https://fastly.4sqi.net/img/general/699x268/177745_RhkfniGAPog8K5zxN3uCKsDl0Nh4PuHLV6MXYkNc7h0.jpg\"/></a></div></div><div class=\"venueInfo\"><div class=\"name\"><p class=\"venueName\"><a class=\"venueLink\" href=\"/v/manna/4e0a83f41495b12d82382c71\" target=\"_blank\"><span class=\"rank\">4.</span> Manna</a></p><div class=\"rating\"><span class=\"venueScore positive\" style=\"background-color: #73CF42;\" title=\"8.7/10 - People like this place\"><span>8.7</span></span></div><div class=\"meta\"><span class=\"address\">845 Irving St (at 10th Ave), San Francisco, CA</span></div><div class=\"meta adjusted\"><span class=\"unlinkedCategory\">Korean Restaurant</span><span class=\"tipCount\"> · Inner Sunset ·  80 tips and reviews</span></div></div></div><div class=\"tip\"><p><span class=\"tippetAvatar\"><a href=\"/sherrydreams\"><img alt=\"Sherry L.\" class=\"avatar\" data-retina-url=\"https://fastly.4sqi.net/img/user/64x64/12891064-LEVOEAGJUAJXWHV2.jpg\" height=\"32\" src=\"https://fastly.4sqi.net/img/user/32x32/12891064-LEVOEAGJUAJXWHV2.jpg\" title=\"Sherry L.\" width=\"32\"/></a></span><span class=\"author\">Sherry Li: </span>Best Korean food in the inner sunset! Tofu soup is awesome. Solid bibimbap. Great service.</p></div><div class=\"tip\"><p><span class=\"tippetAvatar\"><a href=\"/melicioushoney\"><img alt=\"Melissa D.\" class=\"avatar\" data-retina-url=\"https://fastly.4sqi.net/img/user/64x64/776505-D0N5H5IVPYTUOFJI.jpg\" height=\"32\" src=\"https://fastly.4sqi.net/img/user/32x32/776505-D0N5H5IVPYTUOFJI.jpg\" title=\"Melissa D.\" width=\"32\"/></a></span><span class=\"author\">Melissa Dagdagan: </span>Very spicy hot tofu soup is perfect on a cold night!</p></div><div class=\"tip\"><p><span class=\"tippetAvatar\"><a href=\"/sfweekly\"><img alt=\"SF Weekly\" class=\"avatar\" data-retina-url=\"https://fastly.4sqi.net/img/user/64x64/IVFMI42RHDGPZJNQ.jpg\" height=\"32\" src=\"https://fastly.4sqi.net/img/user/32x32/IVFMI42RHDGPZJNQ.jpg\" title=\"SF Weekly\" width=\"32\"/></a></span><span class=\"author\">SF Weekly: </span>SF Weekly's Best of Winner 2012 - Reader's Poll - BEST KOREAN RESTAURANT</p></div><div class=\"actions\"></div></div><div class=\"listing venue\" data-saved=\"false\" data-tipid=\"null\" data-venueid=\"46c5f703f964a520094a1fe3\"><div class=\"listingPhoto positive\"><div class=\"rankAndPhotoContainer\"><a class=\"venueLink\" href=\"/v/han-il-kwan/46c5f703f964a520094a1fe3\" target=\"_blank\"><img alt=\"Han Il Kwan is one of The 15 Best Korean Restaurants in San Francisco.\" class=\"photo\" data-retina-url=\"https://fastly.4sqi.net/img/general/1398x536/42278860_vPWN-McdzktOqomJvbQ7SgOyunCoUrdM-7x4PqKeS7Q.jpg\" src=\"https://fastly.4sqi.net/img/general/699x268/42278860_vPWN-McdzktOqomJvbQ7SgOyunCoUrdM-7x4PqKeS7Q.jpg\"/></a></div></div><div class=\"venueInfo\"><div class=\"name\"><p class=\"venueName\"><a class=\"venueLink\" href=\"/v/han-il-kwan/46c5f703f964a520094a1fe3\" target=\"_blank\"><span class=\"rank\">5.</span> Han Il Kwan</a></p><div class=\"rating\"><span class=\"venueScore positive\" style=\"background-color: #73CF42;\" title=\"8.8/10 - People like this place\"><span>8.8</span></span></div><div class=\"meta\"><span class=\"address\">1802 Balboa St (at 19th Ave), San Francisco, CA</span></div><div class=\"meta adjusted\"><span class=\"unlinkedCategory\">Korean Restaurant</span><span class=\"tipCount\"> · Outer Richmond ·  68 tips and reviews</span></div></div></div><div class=\"tip\"><p><span class=\"tippetAvatar\"><a href=\"/user/26026670\"><img alt=\"Alyssa W.\" class=\"avatar\" data-retina-url=\"https://fastly.4sqi.net/img/user/64x64/26026670-Q23XDNV4HSSB3BJJ.jpg\" height=\"32\" src=\"https://fastly.4sqi.net/img/user/32x32/26026670-Q23XDNV4HSSB3BJJ.jpg\" title=\"Alyssa W.\" width=\"32\"/></a></span><span class=\"author\">Alyssa W: </span>You get that puffy egg dish on the house. Side dishes are huge and plentiful. Everything's delicious.</p></div><div class=\"tip\"><p><span class=\"tippetAvatar\"><a href=\"/p/eater/3343327\"><img alt=\"Eater\" class=\"avatar\" data-retina-url=\"https://fastly.4sqi.net/img/user/64x64/3343327-YQ1D52V3KK2RQLBU.png\" height=\"32\" src=\"https://fastly.4sqi.net/img/user/32x32/3343327-YQ1D52V3KK2RQLBU.png\" title=\"Eater\" width=\"32\"/></a></span><span class=\"author\">Eater: </span>Han Il Kwan's meat is the most tender. It's still worth it  at $30 for the quality and experience, which make it a definite step above the others on this list. <a href=\"http://sf.eater.com/2016/6/14/11925162/best-korean-barbecue-san-francisco-oakland-santa-clara-bay-area\" target=\"_blank\">Read more.</a></p></div><div class=\"tip\"><p><span class=\"tippetAvatar\"><a href=\"/sfweekly\"><img alt=\"SF Weekly\" class=\"avatar\" data-retina-url=\"https://fastly.4sqi.net/img/user/64x64/IVFMI42RHDGPZJNQ.jpg\" height=\"32\" src=\"https://fastly.4sqi.net/img/user/32x32/IVFMI42RHDGPZJNQ.jpg\" title=\"SF Weekly\" width=\"32\"/></a></span><span class=\"author\">SF Weekly: </span>SF Weekly's Best of Winner 2010 - Editorial Pick - BEST ONE-DISH FEAST: DOLSOT BIBIMBAP</p></div><div class=\"actions\"></div></div><div class=\"listing venue\" data-saved=\"false\" data-tipid=\"null\" data-venueid=\"4387a580f964a5200f2b1fe3\"><div class=\"listingPhoto positive\"><div class=\"rankAndPhotoContainer\"><a class=\"venueLink\" href=\"/v/my-tofu-house/4387a580f964a5200f2b1fe3\" target=\"_blank\"><img alt=\"My Tofu House is one of The 15 Best Korean Restaurants in San Francisco.\" class=\"photo\" data-retina-url=\"https://fastly.4sqi.net/img/general/1398x536/149060_GMUtd76vPEvAiyggI5cw1TCbSA5D6OnALZR3MGTiGN8.jpg\" src=\"https://fastly.4sqi.net/img/general/699x268/149060_GMUtd76vPEvAiyggI5cw1TCbSA5D6OnALZR3MGTiGN8.jpg\"/></a></div></div><div class=\"venueInfo\"><div class=\"name\"><p class=\"venueName\"><a class=\"venueLink\" href=\"/v/my-tofu-house/4387a580f964a5200f2b1fe3\" target=\"_blank\"><span class=\"rank\">6.</span> My Tofu House</a></p><div class=\"rating\"><span class=\"venueScore positive\" style=\"background-color: #73CF42;\" title=\"8.5/10 - People like this place\"><span>8.5</span></span></div><div class=\"meta\"><span class=\"address\">4627 Geary Blvd (btwn 10th &amp; 11th Ave), San Francisco, CA</span></div><div class=\"meta adjusted\"><span class=\"unlinkedCategory\">Korean Restaurant</span><span class=\"tipCount\"> · Inner Richmond ·  70 tips and reviews</span></div></div></div><div class=\"tip\"><p><span class=\"tippetAvatar\"><a href=\"/user/1289525\"><img alt=\"Isa\" class=\"avatar blankAvatar\" data-retina-url=\"https://fastly.4sqi.net/img/user/64x64/blank_boy.png\" height=\"32\" src=\"https://fastly.4sqi.net/img/user/32x32/blank_boy.png\" title=\"Isa\" width=\"32\"/></a></span><span class=\"author\">Isa: </span>Go to Tofu House. Try the best tofu soup in bay area. Must order seafood soft tofu with mild spicy and BBQ short ribs.</p></div><div class=\"tip\"><p><span class=\"tippetAvatar\"><a href=\"/user/6694417\"><img alt=\"Gurlygurl P.\" class=\"avatar\" data-retina-url=\"https://fastly.4sqi.net/img/user/64x64/BD0RIOO50WPIGOR5.jpg\" height=\"32\" src=\"https://fastly.4sqi.net/img/user/32x32/BD0RIOO50WPIGOR5.jpg\" title=\"Gurlygurl P.\" width=\"32\"/></a></span><span class=\"author\">Gurlygurl Panda: </span>Seafood soft tofu is the best here</p></div><div class=\"tip\"><p><span class=\"tippetAvatar\"><a href=\"/7x7\"><img alt=\"7x7 Magazine\" class=\"avatar\" data-retina-url=\"https://fastly.4sqi.net/img/user/64x64/4RR5J0HA5Q12DXD5.png\" height=\"32\" src=\"https://fastly.4sqi.net/img/user/32x32/4RR5J0HA5Q12DXD5.png\" title=\"7x7 Magazine\" width=\"32\"/></a></span><span class=\"author\">7x7 Magazine: </span>Get the tofu soup with kimchi...it's #9 on 7x7's Big Eat SF 2010. <a href=\"http://7x7.com/content/eat-drink/coming-soonthe-big-eat-sf-2010-100-things-eat-drink-you-die\" target=\"_blank\">Read more.</a></p></div><div class=\"actions\"></div></div><div class=\"listing venue\" data-saved=\"false\" data-tipid=\"null\" data-venueid=\"3fd66200f964a520deec1ee3\"><div class=\"listingPhoto positive\"><div class=\"rankAndPhotoContainer\"><a class=\"venueLink\" href=\"/v/brothers-korean-restaurant/3fd66200f964a520deec1ee3\" target=\"_blank\"><img alt=\"Brother's Korean Restaurant is one of The 15 Best Korean Restaurants in San Francisco.\" class=\"photo\" data-retina-url=\"https://fastly.4sqi.net/img/general/1398x536/12492037_SCfra2noBpG2s1sbe6Hkf5Gsl77SHsPc8-E9zZNKsZM.jpg\" src=\"https://fastly.4sqi.net/img/general/699x268/12492037_SCfra2noBpG2s1sbe6Hkf5Gsl77SHsPc8-E9zZNKsZM.jpg\"/></a></div></div><div class=\"venueInfo\"><div class=\"name\"><p class=\"venueName\"><a class=\"venueLink\" href=\"/v/brothers-korean-restaurant/3fd66200f964a520deec1ee3\" target=\"_blank\"><span class=\"rank\">7.</span> Brother's Korean Restaurant</a></p><div class=\"rating\"><span class=\"venueScore positive\" style=\"background-color: #73CF42;\" title=\"8.8/10 - People like this place\"><span>8.8</span></span></div><div class=\"meta\"><span class=\"address\">4128 Geary Blvd (between 5th Ave &amp; 6th Ave), San Francisco, CA</span></div><div class=\"meta adjusted\"><span class=\"unlinkedCategory\">Korean Restaurant</span><span class=\"tipCount\"> · Inner Richmond ·  54 tips and reviews</span></div></div></div><div class=\"tip\"><p><span class=\"tippetAvatar\"><a href=\"/vansivallab\"><img alt=\"Vansi\" class=\"avatar\" data-retina-url=\"https://fastly.4sqi.net/img/user/64x64/34532290-CKKKWJYIJVIZQI4W.jpg\" height=\"32\" src=\"https://fastly.4sqi.net/img/user/32x32/34532290-CKKKWJYIJVIZQI4W.jpg\" title=\"Vansi\" width=\"32\"/></a></span><span class=\"author\">Vansi: </span>The stews with rice cake (dduk) are great!</p></div><div class=\"tip\"><p><span class=\"tippetAvatar\"><a href=\"/user/12671958\"><img alt=\"Elaine C.\" class=\"avatar\" data-retina-url=\"https://fastly.4sqi.net/img/user/64x64/12671958-DIQ4L1KUI5BFY3UX\" height=\"32\" src=\"https://fastly.4sqi.net/img/user/32x32/12671958-DIQ4L1KUI5BFY3UX\" title=\"Elaine C.\" width=\"32\"/></a></span><span class=\"author\">Elaine Courtney: </span>Authentic Korean BBQ... You come out smelling like a rack of ribs but it's absolutely worth it! Go early or be prepared to line up outside their doors.</p></div><div class=\"tip\"><p><span class=\"tippetAvatar\"><a href=\"/cpaik\"><img alt=\"Chris P.\" class=\"avatar\" data-retina-url=\"https://fastly.4sqi.net/img/user/64x64/F0HYJNGSK1P1OA2M.jpg\" height=\"32\" src=\"https://fastly.4sqi.net/img/user/32x32/F0HYJNGSK1P1OA2M.jpg\" title=\"Chris P.\" width=\"32\"/></a></span><span class=\"author\">Chris Paik: </span>Best Korean food in SF! Be prepared to wait though..</p></div><div class=\"actions\"></div></div><div class=\"listing venue\" data-saved=\"false\" data-tipid=\"null\" data-venueid=\"457c2ffff964a520003f1fe3\"><div class=\"listingPhoto positive\"><div class=\"rankAndPhotoContainer\"><a class=\"venueLink\" href=\"/v/muguboka-korean-bbq/457c2ffff964a520003f1fe3\" target=\"_blank\"><img alt=\"Muguboka Korean BBQ is one of The 15 Best Korean Restaurants in San Francisco.\" class=\"photo\" data-retina-url=\"https://fastly.4sqi.net/img/general/1398x536/377955_1BlJDrD8ZAjB1_PAa33D0kTNFflx8risu7GsmjUfS3E.jpg\" src=\"https://fastly.4sqi.net/img/general/699x268/377955_1BlJDrD8ZAjB1_PAa33D0kTNFflx8risu7GsmjUfS3E.jpg\"/></a></div></div><div class=\"venueInfo\"><div class=\"name\"><p class=\"venueName\"><a class=\"venueLink\" href=\"/v/muguboka-korean-bbq/457c2ffff964a520003f1fe3\" target=\"_blank\"><span class=\"rank\">8.</span> Muguboka Korean BBQ</a></p><div class=\"rating\"><span class=\"venueScore positive\" style=\"background-color: #73CF42;\" title=\"8.4/10 - People like this place\"><span>8.4</span></span></div><div class=\"meta\"><span class=\"address\">401 Balboa St (at 5th Ave.), San Francisco, CA</span></div><div class=\"meta adjusted\"><span class=\"unlinkedCategory\">Korean Restaurant</span><span class=\"tipCount\"> · Inner Richmond ·  31 tips and reviews</span></div></div></div><div class=\"tip\"><p><span class=\"tippetAvatar\"><a href=\"/mattkorman\"><img alt=\"Matt K.\" class=\"avatar\" data-retina-url=\"https://fastly.4sqi.net/img/user/64x64/10409332_Bl56qKjW_eMlYpVX3nFy4ClbwL5RquCMzFRgCJ_hm4Hi3_E4miMGk22LKNuXrLt7t2I7R3FrL.jpg\" height=\"32\" src=\"https://fastly.4sqi.net/img/user/32x32/10409332_Bl56qKjW_eMlYpVX3nFy4ClbwL5RquCMzFRgCJ_hm4Hi3_E4miMGk22LKNuXrLt7t2I7R3FrL.jpg\" title=\"Matt K.\" width=\"32\"/></a></span><span class=\"author\">Matt K: </span>Spicy tofu soup, seafood cake. All of it!</p></div><div class=\"tip\"><p><span class=\"tippetAvatar\"><a href=\"/user/2715008\"><img alt=\"Juni\" class=\"avatar\" data-retina-url=\"https://fastly.4sqi.net/img/user/64x64/2715008_PoeJ1hCM_C7vEF0f_qoi75OKFO2Zo2xgvmxjDpG0I37k5EnOS-acntLimRVxjqO1ukrrGesSz.jpg\" height=\"32\" src=\"https://fastly.4sqi.net/img/user/32x32/2715008_PoeJ1hCM_C7vEF0f_qoi75OKFO2Zo2xgvmxjDpG0I37k5EnOS-acntLimRVxjqO1ukrrGesSz.jpg\" title=\"Juni\" width=\"32\"/></a></span><span class=\"author\">Juni: </span>Three entrees equals free soondubu</p></div><div class=\"tip\"><p><span class=\"tippetAvatar\"><a href=\"/annajyu\"><img alt=\"Anna\" class=\"avatar\" data-retina-url=\"https://fastly.4sqi.net/img/user/64x64/11KUN2XZZOLL5VMW.jpg\" height=\"32\" src=\"https://fastly.4sqi.net/img/user/32x32/11KUN2XZZOLL5VMW.jpg\" title=\"Anna\" width=\"32\"/></a></span><span class=\"author\">Anna: </span>Don't order the seafood pancake, they usually give it to you for free! (and it's delicious btw!)</p></div><div class=\"actions\"></div></div><div class=\"listing venue\" data-saved=\"false\" data-tipid=\"null\" data-venueid=\"4f359f3b7beb8cc43414ab62\"><div class=\"listingPhoto positive\"><div class=\"rankAndPhotoContainer\"><a class=\"venueLink\" href=\"/v/namu-gaji/4f359f3b7beb8cc43414ab62\" target=\"_blank\"><img alt=\"Namu Gaji is one of The 15 Best Korean Restaurants in San Francisco.\" class=\"photo\" data-retina-url=\"https://fastly.4sqi.net/img/general/1398x536/17746077_jPYRZupdqT71jm1Gm77UBBHaSmX7rFQ1efoHZlxiQpk.jpg\" src=\"https://fastly.4sqi.net/img/general/699x268/17746077_jPYRZupdqT71jm1Gm77UBBHaSmX7rFQ1efoHZlxiQpk.jpg\"/></a></div></div><div class=\"venueInfo\"><div class=\"name\"><p class=\"venueName\"><a class=\"venueLink\" href=\"/v/namu-gaji/4f359f3b7beb8cc43414ab62\" target=\"_blank\"><span class=\"rank\">9.</span> Namu Gaji</a></p><div class=\"rating\"><span class=\"venueScore positive\" style=\"background-color: #73CF42;\" title=\"8.2/10 - People like this place\"><span>8.2</span></span></div><div class=\"meta\"><span class=\"address\">499 Dolores St (at 18th St), San Francisco, CA</span></div><div class=\"meta adjusted\"><span class=\"unlinkedCategory\">Korean Restaurant</span><span class=\"tipCount\"> · Mission Dolores ·  177 tips and reviews</span></div></div></div><div class=\"tip\"><p><span class=\"tippetAvatar\"><a href=\"/user/49629602\"><img alt=\"Katherine C.\" class=\"avatar\" data-retina-url=\"https://fastly.4sqi.net/img/user/64x64/FKCRKWGSUMU0LP4G.jpg\" height=\"32\" src=\"https://fastly.4sqi.net/img/user/32x32/FKCRKWGSUMU0LP4G.jpg\" title=\"Katherine C.\" width=\"32\"/></a></span><span class=\"author\">Katherine Chan: </span>Korean fried chicken special is amazing! Dumplings are also quite good.</p></div><div class=\"tip\"><p><span class=\"tippetAvatar\"><a href=\"/noradio\"><img alt=\"Marcel M.\" class=\"avatar\" data-retina-url=\"https://fastly.4sqi.net/img/user/64x64/16828-0FNN2BVD3W3D0P3C.jpg\" height=\"32\" src=\"https://fastly.4sqi.net/img/user/32x32/16828-0FNN2BVD3W3D0P3C.jpg\" title=\"Marcel M.\" width=\"32\"/></a></span><span class=\"author\">Marcel Molina: </span>I've had the stone pot with flank steak over a dozen times. When it's served hold off eating it for about 10 minutes so the rice can cook and get crunchy on the hot stone it's served in.</p></div><div class=\"tip\"><p><span class=\"tippetAvatar\"><a href=\"/thrillist\"><img alt=\"Thrillist\" class=\"avatar\" data-retina-url=\"https://fastly.4sqi.net/img/user/64x64/EAJSSAI10XFPJI2X.jpg\" height=\"32\" src=\"https://fastly.4sqi.net/img/user/32x32/EAJSSAI10XFPJI2X.jpg\" title=\"Thrillist\" width=\"32\"/></a></span><span class=\"author\">Thrillist: </span>These used-to-be-off-menu-but're-now-on-the-lunch-menu-because-they're-so-amazing hand-cut organic potato fries are covered in kimchee relish, green onion, Kewpie mayo, teriyaki, and bulgogi beef. <a href=\"http://www.thrillist.com/eat/san-francisco/best-sf-fries-thrillist-san-francisco?utm_source=foursquare&amp;utm_medium=social&amp;utm_campaign=thrillist\" target=\"_blank\">Read more.</a></p></div><div class=\"actions\"></div></div><div class=\"listing venue\" data-saved=\"false\" data-tipid=\"null\" data-venueid=\"577709b1498ec87e7dcdb1f8\"><div class=\"listingPhoto positive\"><div class=\"rankAndPhotoContainer\"><a class=\"venueLink\" href=\"/v/tacorea/577709b1498ec87e7dcdb1f8\" target=\"_blank\"><img alt=\"Tacorea is one of The 15 Best Korean Restaurants in San Francisco.\" class=\"photo\" data-retina-url=\"https://fastly.4sqi.net/img/general/1398x536/44805932_jG1GPo3PZIicLtN6r69D0RriHt_090FNc-7JR6Ha1Yc.jpg\" src=\"https://fastly.4sqi.net/img/general/699x268/44805932_jG1GPo3PZIicLtN6r69D0RriHt_090FNc-7JR6Ha1Yc.jpg\"/></a></div></div><div class=\"venueInfo\"><div class=\"name\"><p class=\"venueName\"><a class=\"venueLink\" href=\"/v/tacorea/577709b1498ec87e7dcdb1f8\" target=\"_blank\"><span class=\"rank\">10.</span> Tacorea</a></p><div class=\"rating\"><span class=\"venueScore positive\" style=\"background-color: #73CF42;\" title=\"8.5/10 - People like this place\"><span>8.5</span></span></div><div class=\"meta\"><span class=\"address\">809 Bush St (at Mason St), San Francisco, CA</span></div><div class=\"meta adjusted\"><span class=\"unlinkedCategory\">Korean Restaurant</span><span class=\"tipCount\"> · Lower Nob Hill ·  60 tips and reviews</span></div></div></div><div class=\"tip\"><p><span class=\"tippetAvatar\"><a href=\"/user/92084568\"><img alt=\"Connie C.\" class=\"avatar\" data-retina-url=\"https://fastly.4sqi.net/img/user/64x64/92084568_f8ULKH9N_8aElSQB8YWKbixlieIe1wBj748tiI1pbkDeqnpVM7HPHkW3jo0b7iN7UhXvmDFMM.jpg\" height=\"32\" src=\"https://fastly.4sqi.net/img/user/32x32/92084568_f8ULKH9N_8aElSQB8YWKbixlieIe1wBj748tiI1pbkDeqnpVM7HPHkW3jo0b7iN7UhXvmDFMM.jpg\" title=\"Connie C.\" width=\"32\"/></a></span><span class=\"author\">Connie Chiu: </span>Amazing spot! Love the Mexican/Korean fusion. The big ricardo and spicy pork tot nacho is so good that I scarfed it all down. Huge portions and not a lot of seating.</p></div><div class=\"tip\"><p><span class=\"tippetAvatar\"><a href=\"/user/58769714\"><img alt=\"Luis S.\" class=\"avatar\" data-retina-url=\"https://fastly.4sqi.net/img/user/64x64/DSR2MR2HXAALHHAI.jpg\" height=\"32\" src=\"https://fastly.4sqi.net/img/user/32x32/DSR2MR2HXAALHHAI.jpg\" title=\"Luis S.\" width=\"32\"/></a></span><span class=\"author\">Luis Santana: </span>Spicy pork and sweet beef are really good</p></div><div class=\"tip\"><p><span class=\"tippetAvatar\"><a href=\"/user/6229518\"><img alt=\"Ricky S.\" class=\"avatar\" data-retina-url=\"https://fastly.4sqi.net/img/user/64x64/PG3XUEJ2V4BUFNLA.jpg\" height=\"32\" src=\"https://fastly.4sqi.net/img/user/32x32/PG3XUEJ2V4BUFNLA.jpg\" title=\"Ricky S.\" width=\"32\"/></a></span><span class=\"author\">Ricky Sherrill: </span>A nice little spot that combines Korean BBQ with Mexican style burritos &amp; tacos. I tried the California &amp; Wet Burrito,, tacos along with the Cheesy Quesadilla. They were all good &amp; I will be back.</p></div><div class=\"actions\"></div></div><div class=\"listing venue\" data-saved=\"false\" data-tipid=\"null\" data-venueid=\"588510a1af7d1717ff95030a\"><div class=\"listingPhoto positive\"><div class=\"rankAndPhotoContainer\"><a class=\"venueLink\" href=\"/v/surisan/588510a1af7d1717ff95030a\" target=\"_blank\"><img alt=\"Surisan is one of The 15 Best Korean Restaurants in San Francisco.\" class=\"photo\" data-retina-url=\"https://fastly.4sqi.net/img/general/1398x536/12819602_giShYcTeyid40gd4Q9mC5VWNO4Z3KfEYUY7RrZpPdKw.jpg\" src=\"https://fastly.4sqi.net/img/general/699x268/12819602_giShYcTeyid40gd4Q9mC5VWNO4Z3KfEYUY7RrZpPdKw.jpg\"/></a></div></div><div class=\"venueInfo\"><div class=\"name\"><p class=\"venueName\"><a class=\"venueLink\" href=\"/v/surisan/588510a1af7d1717ff95030a\" target=\"_blank\"><span class=\"rank\">11.</span> Surisan</a></p><div class=\"rating\"><span class=\"venueScore positive\" style=\"background-color: #73CF42;\" title=\"8.4/10 - People like this place\"><span>8.4</span></span></div><div class=\"meta\"><span class=\"address\">505 Beach St (Jones St), San Francisco, CA</span></div><div class=\"meta adjusted\"><span class=\"unlinkedCategory\">Korean Restaurant</span><span class=\"tipCount\"> · Fishermans Wharf ·  24 tips and reviews</span></div></div></div><div class=\"tip\"><p><span class=\"tippetAvatar\"><a href=\"/user/524309021\"><img alt=\"Emma G.\" class=\"avatar\" data-retina-url=\"https://fastly.4sqi.net/img/user/64x64/524309021_Av-Yv8Y3_bCIvtDlumEc4MoauOumOqBexCp8kWH8OCtyxb2-1Pc01IAa2V7esm63uIV42jTKB.jpg\" height=\"32\" src=\"https://fastly.4sqi.net/img/user/32x32/524309021_Av-Yv8Y3_bCIvtDlumEc4MoauOumOqBexCp8kWH8OCtyxb2-1Pc01IAa2V7esm63uIV42jTKB.jpg\" title=\"Emma G.\" width=\"32\"/></a></span><span class=\"author\">Emma Griffin: </span>Food is incredible! Salmon tempura roll is to die for. Decor is fantastic and the service was dynamite!</p></div><div class=\"tip\"><p><span class=\"tippetAvatar\"><a href=\"/user/145082\"><img alt=\"Allen\" class=\"avatar\" data-retina-url=\"https://fastly.4sqi.net/img/user/64x64/145082-Y0VAB2H5QGCAUT4A.jpg\" height=\"32\" src=\"https://fastly.4sqi.net/img/user/32x32/145082-Y0VAB2H5QGCAUT4A.jpg\" title=\"Allen\" width=\"32\"/></a></span><span class=\"author\">Allen: </span>Chicken sandwich was amazing.</p></div><div class=\"tip\"><p><span class=\"tippetAvatar\"><a href=\"/jq_diaz\"><img alt=\"Josué Manuel Q.\" class=\"avatar\" data-retina-url=\"https://fastly.4sqi.net/img/user/64x64/KYLJFW4MSTS33XBV.jpg\" height=\"32\" src=\"https://fastly.4sqi.net/img/user/32x32/KYLJFW4MSTS33XBV.jpg\" title=\"Josué Manuel Q.\" width=\"32\"/></a></span><span class=\"author\">Josué Manuel Quintana Diaz: </span>Love for Details - great time</p></div><div class=\"actions\"></div></div><div class=\"listing venue\" data-saved=\"false\" data-tipid=\"null\" data-venueid=\"4a960947f964a520de2520e3\"><div class=\"listingPhoto positive\"><div class=\"rankAndPhotoContainer\"><a class=\"venueLink\" href=\"/v/cocobang/4a960947f964a520de2520e3\" target=\"_blank\"><img alt=\"Cocobang is one of The 15 Best Korean Restaurants in San Francisco.\" class=\"photo\" data-retina-url=\"https://fastly.4sqi.net/img/general/1398x536/13222512_a23XqtNxuJqJW4GvDtRD1VYvO3jbsEO7LonwQdwkWS4.jpg\" src=\"https://fastly.4sqi.net/img/general/699x268/13222512_a23XqtNxuJqJW4GvDtRD1VYvO3jbsEO7LonwQdwkWS4.jpg\"/></a></div></div><div class=\"venueInfo\"><div class=\"name\"><p class=\"venueName\"><a class=\"venueLink\" href=\"/v/cocobang/4a960947f964a520de2520e3\" target=\"_blank\"><span class=\"rank\">12.</span> Cocobang</a></p><div class=\"rating\"><span class=\"venueScore positive\" style=\"background-color: #73CF42;\" title=\"8.0/10 - People like this place\"><span>8.0</span></span></div><div class=\"meta\"><span class=\"address\">550 Taylor St (at Post St), San Francisco, CA</span></div><div class=\"meta adjusted\"><span class=\"unlinkedCategory\">Korean Restaurant</span><span class=\"tipCount\"> · Lower Nob Hill ·  83 tips and reviews</span></div></div></div><div class=\"tip\"><p><span class=\"tippetAvatar\"><a href=\"/kylejomo\"><img alt=\"Kyle M.\" class=\"avatar\" data-retina-url=\"https://fastly.4sqi.net/img/user/64x64/A1IYBP0YWUDNWWAV.jpg\" height=\"32\" src=\"https://fastly.4sqi.net/img/user/32x32/A1IYBP0YWUDNWWAV.jpg\" title=\"Kyle M.\" width=\"32\"/></a></span><span class=\"author\">Kyle Moore: </span>The potstickers, sweet and tangy fried chicken, and spicy BBQ ribs were all awesome. Great service. Small place.</p></div><div class=\"tip\"><p><span class=\"tippetAvatar\"><a href=\"/jessinsf\"><img alt=\"Jessica C.\" class=\"avatar\" data-retina-url=\"https://fastly.4sqi.net/img/user/64x64/1HQ4U3ZDHGP4UYYU.png\" height=\"32\" src=\"https://fastly.4sqi.net/img/user/32x32/1HQ4U3ZDHGP4UYYU.png\" title=\"Jessica C.\" width=\"32\"/></a></span><span class=\"author\">Jessica Chan: </span>late night dukbukki with ramen is the perfect night cap</p></div><div class=\"tip\"><p><span class=\"tippetAvatar\"><a href=\"/user/2922952\"><img alt=\"Ayoung J.\" class=\"avatar\" data-retina-url=\"https://fastly.4sqi.net/img/user/64x64/WXSW4Z2YOQJMXAJB.jpg\" height=\"32\" src=\"https://fastly.4sqi.net/img/user/32x32/WXSW4Z2YOQJMXAJB.jpg\" title=\"Ayoung J.\" width=\"32\"/></a></span><span class=\"author\">Ayoung Jeon: </span>Marinated fried chicken and kalbi. Every time. Can't go wrong. Best place for late night Korean snackies.</p></div><div class=\"actions\"></div></div><div class=\"listing venue\" data-saved=\"false\" data-tipid=\"null\" data-venueid=\"5b4aa41d270ee7002cb61a85\"><div class=\"listingPhoto positive\"><div class=\"rankAndPhotoContainer\"><a class=\"venueLink\" href=\"/v/the-lucky-pig/5b4aa41d270ee7002cb61a85\" target=\"_blank\"><img alt=\"The Lucky Pig is one of The 15 Best Korean Restaurants in San Francisco.\" class=\"photo\" data-retina-url=\"https://fastly.4sqi.net/img/general/1398x536/504302091_aTi7aIRKNADsidGRDmlrsrKdttEWkFlOhFBfQLcSMYw.jpg\" src=\"https://fastly.4sqi.net/img/general/699x268/504302091_aTi7aIRKNADsidGRDmlrsrKdttEWkFlOhFBfQLcSMYw.jpg\"/></a></div></div><div class=\"venueInfo\"><div class=\"name\"><p class=\"venueName\"><a class=\"venueLink\" href=\"/v/the-lucky-pig/5b4aa41d270ee7002cb61a85\" target=\"_blank\"><span class=\"rank\">13.</span> The Lucky Pig</a></p><div class=\"rating\"><span class=\"venueScore positive\" style=\"background-color: #73CF42;\" title=\"8.2/10 - People like this place\"><span>8.2</span></span></div><div class=\"meta\"><span class=\"address\">791 Ofarrell St (Larkin), San Francisco, CA</span></div><div class=\"meta adjusted\"><span class=\"unlinkedCategory\">Korean Restaurant</span><span class=\"tipCount\"> · Tenderloin ·  3 tips and reviews</span></div></div></div><div class=\"tip\"><p><span class=\"tippetAvatar\"><a href=\"/user/10924499\"><img alt=\"Nick T.\" class=\"avatar\" data-retina-url=\"https://fastly.4sqi.net/img/user/64x64/VKJLNJXE1TQ4IMYI.jpg\" height=\"32\" src=\"https://fastly.4sqi.net/img/user/32x32/VKJLNJXE1TQ4IMYI.jpg\" title=\"Nick T.\" width=\"32\"/></a></span><span class=\"author\">Nick Thulin: </span>Delicious new place in the TL. Worth a trip. Get the pork ribs or pork belly :)</p></div><div class=\"tip\"><p><span class=\"tippetAvatar\"><a href=\"/broadcastorm\"><img alt=\"Vladislav P.\" class=\"avatar\" data-retina-url=\"https://fastly.4sqi.net/img/user/64x64/19468903-QADAAQ3Y2MNNVVGT.jpg\" height=\"32\" src=\"https://fastly.4sqi.net/img/user/32x32/19468903-QADAAQ3Y2MNNVVGT.jpg\" title=\"Vladislav P.\" width=\"32\"/></a></span><span class=\"author\">Vladislav Perge: </span>This is THE most amazing Korean place I've ever tried outside of Korea. Pork belly is nothing special but everything else on the menu is pure gold and you should order all of it. Kimchi pancakes are💜</p></div><div class=\"tip\"><p><span class=\"tippetAvatar\"><a href=\"/user/146971790\"><img alt=\"Chad L.\" class=\"avatar blankAvatar\" data-retina-url=\"https://fastly.4sqi.net/img/user/64x64/blank_boy.png\" height=\"32\" src=\"https://fastly.4sqi.net/img/user/32x32/blank_boy.png\" title=\"Chad L.\" width=\"32\"/></a></span><span class=\"author\">Chad Lucas: </span>Get the pork ribs, very tasty.</p></div><div class=\"actions\"></div></div><div class=\"listing venue\" data-saved=\"false\" data-tipid=\"null\" data-venueid=\"596f7dac851de55ed93ce160\"><div class=\"listingPhoto positive\"><div class=\"rankAndPhotoContainer\"><a class=\"venueLink\" href=\"/v/namu-stonepot/596f7dac851de55ed93ce160\" target=\"_blank\"><img alt=\"Namu Stonepot is one of The 15 Best Korean Restaurants in San Francisco.\" class=\"photo\" data-retina-url=\"https://fastly.4sqi.net/img/general/1398x536/7440763_4cDYHRQ-FQmOROypD6cA-Dvy9b7K8xhpnKdR1GS2baE.jpg\" src=\"https://fastly.4sqi.net/img/general/699x268/7440763_4cDYHRQ-FQmOROypD6cA-Dvy9b7K8xhpnKdR1GS2baE.jpg\"/></a></div></div><div class=\"venueInfo\"><div class=\"name\"><p class=\"venueName\"><a class=\"venueLink\" href=\"/v/namu-stonepot/596f7dac851de55ed93ce160\" target=\"_blank\"><span class=\"rank\">14.</span> Namu Stonepot</a></p><div class=\"rating\"><span class=\"venueScore positive\" style=\"background-color: #73CF42;\" title=\"8.0/10 - People like this place\"><span>8.0</span></span></div><div class=\"meta\"><span class=\"address\">553 Divisadero St (Hayes Street), San Francisco, CA</span></div><div class=\"meta adjusted\"><span class=\"unlinkedCategory\">Korean Restaurant</span><span class=\"tipCount\"> · Alamo Square ·  20 tips and reviews</span></div></div></div><div class=\"tip\"><p><span class=\"tippetAvatar\"><a href=\"/timothyhaines\"><img alt=\"Tim H.\" class=\"avatar\" data-retina-url=\"https://fastly.4sqi.net/img/user/64x64/WSFTAEGKYE0UB1JH.jpg\" height=\"32\" src=\"https://fastly.4sqi.net/img/user/32x32/WSFTAEGKYE0UB1JH.jpg\" title=\"Tim H.\" width=\"32\"/></a></span><span class=\"author\">Tim Haines: </span>The stonepot rice with bulgogi and raging ramen were both fantastic. The stonepot experience overall is a great concept; worth the wait!</p></div><div class=\"tip\"><p><span class=\"tippetAvatar\"><a href=\"/user/90803273\"><img alt=\"Christian L.\" class=\"avatar\" data-retina-url=\"https://fastly.4sqi.net/img/user/64x64/90803273-T3BKLVXINFFQHWYE.jpg\" height=\"32\" src=\"https://fastly.4sqi.net/img/user/32x32/90803273-T3BKLVXINFFQHWYE.jpg\" title=\"Christian L.\" width=\"32\"/></a></span><span class=\"author\">Christian Lutz: </span>Kimchi stone pot or classic stonepot. Fantastic food</p></div><div class=\"tip\"><p><span class=\"tippetAvatar\"><a href=\"/user/449120781\"><img alt=\"Sam S.\" class=\"avatar blankAvatar\" data-retina-url=\"https://fastly.4sqi.net/img/user/64x64/blank_boy.png\" height=\"32\" src=\"https://fastly.4sqi.net/img/user/32x32/blank_boy.png\" title=\"Sam S.\" width=\"32\"/></a></span><span class=\"author\">Sam Shapiro: </span>I always get the original and come here almost every other week. So good! A little pricey though. If with a friend, be sure to split the fried chicken w crispy crack...or get it just for yourself...</p></div><div class=\"actions\"></div></div><div class=\"listing venue\" data-saved=\"false\" data-tipid=\"null\" data-venueid=\"5a0522a83af988764605d1dc\"><div class=\"listingPhoto positive\"><div class=\"rankAndPhotoContainer\"><a class=\"venueLink\" href=\"/v/koja-kitchen/5a0522a83af988764605d1dc\" target=\"_blank\"><img alt=\"Koja Kitchen is one of The 15 Best Korean Restaurants in San Francisco.\" class=\"photo\" data-retina-url=\"https://fastly.4sqi.net/img/general/1398x536/22031451_23X7gCayMfXM8EzdxLNpf_0V2XnP3QqRDjneROFB5G4.jpg\" src=\"https://fastly.4sqi.net/img/general/699x268/22031451_23X7gCayMfXM8EzdxLNpf_0V2XnP3QqRDjneROFB5G4.jpg\"/></a></div></div><div class=\"venueInfo\"><div class=\"name\"><p class=\"venueName\"><a class=\"venueLink\" href=\"/v/koja-kitchen/5a0522a83af988764605d1dc\" target=\"_blank\"><span class=\"rank\">15.</span> Koja Kitchen</a></p><div class=\"rating\"><span class=\"venueScore positive\" style=\"background-color: #73CF42;\" title=\"8.2/10 - People like this place\"><span>8.2</span></span></div><div class=\"meta\"><span class=\"address\">865 Market St, San Francisco, CA</span></div><div class=\"meta adjusted\"><span class=\"unlinkedCategory\">Korean Restaurant</span><span class=\"tipCount\"> · SoMa ·  2 tips and reviews</span></div></div></div><div class=\"tip\"><p><span class=\"tippetAvatar\"><a href=\"/user/539\"><img alt=\"tony c.\" class=\"avatar\" data-retina-url=\"https://fastly.4sqi.net/img/user/64x64/539_tdmx7lnT_L44n_XHJWpkTcyyO-5bL1NfO2VCqxiTV0ibxcRAIXPVt3Su5ecxPBuuAHn2-7KvS.jpg\" height=\"32\" src=\"https://fastly.4sqi.net/img/user/32x32/539_tdmx7lnT_L44n_XHJWpkTcyyO-5bL1NfO2VCqxiTV0ibxcRAIXPVt3Su5ecxPBuuAHn2-7KvS.jpg\" title=\"tony c.\" width=\"32\"/></a></span><span class=\"author\">tony chang: </span>Grilled rice patties are used in place of bread to make delicious sandwiches. The Zen Koja is vegetarian and very flavorful.</p></div><div class=\"tip\"><p><span class=\"tippetAvatar\"><a href=\"/scotthedge13\"><img alt=\"Scott\" class=\"avatar\" data-retina-url=\"https://fastly.4sqi.net/img/user/64x64/YOQOCP4FR2CQIPL4.jpg\" height=\"32\" src=\"https://fastly.4sqi.net/img/user/32x32/YOQOCP4FR2CQIPL4.jpg\" title=\"Scott\" width=\"32\"/></a></span><span class=\"author\">Scott: </span>Ahi salad is fresh and tasty</p></div><div class=\"actions\"></div></div></div><div class=\"sidebar\"><div class=\"listing cta notFacebookUser\" data-style=\"localQueryPage\" id=\"signupPromptContainer\"><div class=\"inner\"><div class=\"caption\">Sign up to tell us what you like, and never miss a beat on finding the best places <em>for you</em>.</div><button class=\"facebookButton inline\"><img height=\"16\" src=\"https://ss1.4sqi.net/img/facebook_white_16-6bbfb11fa257bfaf546775c5fdab176b.png\" width=\"16\"/>Sign up with Facebook</button><span class=\"conjunctionAndEmail\"><span class=\"conjunction\">or</span><a class=\"emailSignup\" href=\"/signup/join\">Sign up with email</a></span></div></div><li class=\"listing pivots\"><a class=\"pivot\" href=\"/top-places/san-francisco/best-places-beer-garden\"><div class=\"listPhoto\"><img alt=\"The 15 Best Places with Beer Gardens in San Francisco\" class=\"photo\" data-retina-url=\"https://fastly.4sqi.net/img/general/680x392/10782946_Qq_U6LWx0CPV-dnwQ5pGcqET98uK5Jt44s8KwF71lrM.jpg\" src=\"https://fastly.4sqi.net/img/general/340x196/10782946_Qq_U6LWx0CPV-dnwQ5pGcqET98uK5Jt44s8KwF71lrM.jpg\"/></div><div class=\"listUser\"><img height=\"32\" src=\"https://ss0.4sqi.net/img/foursquare_32-1552bc2b5cdd7fb9356541b2fecc0add.png\" width=\"32\"/></div><div class=\"listName\">The 15 Best Places with Beer Gardens in San Francisco</div></a></li><li class=\"listing pivots\"><a class=\"pivot\" href=\"/top-places/san-francisco/best-places-music-venues\"><div class=\"listPhoto\"><img alt=\"The 15 Best Music Venues in San Francisco\" class=\"photo\" data-retina-url=\"https://fastly.4sqi.net/img/general/680x392/2181570_ZjqSnm-dxdmi2bTggueVCYIOAPXyL1WjDBYQkmRsrHQ.jpg\" src=\"https://fastly.4sqi.net/img/general/340x196/2181570_ZjqSnm-dxdmi2bTggueVCYIOAPXyL1WjDBYQkmRsrHQ.jpg\"/></div><div class=\"listUser\"><img height=\"32\" src=\"https://ss0.4sqi.net/img/foursquare_32-1552bc2b5cdd7fb9356541b2fecc0add.png\" width=\"32\"/></div><div class=\"listName\">The 15 Best Music Venues in San Francisco</div></a></li><li class=\"listing pivots\"><a class=\"pivot\" href=\"/top-places/san-francisco/best-places-russian-food\"><div class=\"listPhoto\"><img alt=\"The 15 Best Places for Russian Food in San Francisco\" class=\"photo\" data-retina-url=\"https://fastly.4sqi.net/img/general/680x392/11693063_fv_gY1Hv5GGYvYoODoADBinz9BNKgOSruzSJ6-h2cUs.jpg\" src=\"https://fastly.4sqi.net/img/general/340x196/11693063_fv_gY1Hv5GGYvYoODoADBinz9BNKgOSruzSJ6-h2cUs.jpg\"/></div><div class=\"listUser\"><img height=\"32\" src=\"https://ss0.4sqi.net/img/foursquare_32-1552bc2b5cdd7fb9356541b2fecc0add.png\" width=\"32\"/></div><div class=\"listName\">The 15 Best Places for Russian Food in San Francisco</div></a></li></div></div></div></div><script type=\"text/javascript\">fourSq.localquerydetail.desktop.LocalQueryDetailPage.init();</script><div id=\"containerFooter\"><div class=\"wideColumn\"><ul class=\"notrans\"><li><a href=\"/about\">About</a></li><li><a href=\"http://blog.foursquare.com\">Blog</a></li><li><a href=\"http://business.foursquare.com\">Businesses</a></li><li><a href=\"/cities\">Cities</a></li><li><a href=\"http://developer.foursquare.com\">Developers</a></li><li><a href=\"http://foursquare.com/help\">Help</a></li><li><a href=\"/jobs/\">Careers</a></li><li><a href=\"/legal/cookiepolicy\">Cookies (Updated)</a></li><li><a href=\"/legal/privacy\">Privacy (Updated)</a></li><li><a href=\"/legal/terms\">Terms</a></li><li><span class=\"link\" id=\"currentLanguage\">English</span></li></ul></div><div class=\"narrowColumn\">Foursquare © 2019 <img alt=\"\" height=\"9\" src=\"https://ss1.4sqi.net/img/icon-mini-crown-cdef5bfd4afc2ff3038c790ea2ae1e14.png\" width=\"12\"/> Lovingly made in NYC, SF &amp; Chicago</div></div></div><noscript><div id=\"noscript\"><h3>You must enable JavaScript to use foursquare.com</h3><p>We use the latest and greatest technology available to provide the best possible web experience.<br/>Please enable JavaScript in your browser settings to continue.</p><p class=\"small\"><a href=\"/download\">Download Foursquare</a> for your smart phone and start exploring the world around you!</p></div></noscript><div id=\"footer\"><div class=\"otherCities\"><ul><li class=\"label\">Cities:</li><li class=\"city\"><a href=\"/cities/atlanta-georgia\">Atlanta</a></li><li class=\"city\"><a href=\"/cities/austin-texas\">Austin</a></li><li class=\"city\"><a href=\"/cities/boston-massachusetts\">Boston</a></li><li class=\"city\"><a href=\"/cities/chicago-illinois\">Chicago</a></li><li class=\"city\"><a href=\"/cities/dallas-texas\">Dallas</a></li><li class=\"city\"><a href=\"/cities/denver-colorado\">Denver</a></li><li class=\"city\"><a href=\"/cities/houston-texas\">Houston</a></li><li class=\"city\"><a href=\"/cities/las-vegas-nevada\">Las Vegas</a></li><li class=\"city\"><a href=\"/cities/los-angeles-california\">Los Angeles</a></li><li class=\"city\"><a href=\"/cities/new-york-city-new-york\">New York</a></li><li class=\"city\"><a href=\"/cities/philadelphia-pennsylvania\">Philadelphia</a></li><li class=\"city\"><a href=\"/cities/portland-oregon\">Portland</a></li><li class=\"city\"><a href=\"/cities/san-diego-california\">San Diego</a></li><li class=\"city\"><a href=\"/cities/san-francisco-california\">San Francisco</a></li><li class=\"city\"><a href=\"/cities/seattle-washington\">Seattle</a></li><li class=\"city\"><a href=\"/cities/washington-dc\">Washington, D.C.</a></li></ul></div><div class=\"otherCountries\"><ul><li class=\"label\">Countries:</li><li class=\"city\"><a href=\"/cities/brussels-belgium\" title=\"Brussels\">Belgium</a></li><li class=\"city\"><a href=\"/cities/sao-paulo\" title=\"Sao Paulo\">Brazil</a></li><li class=\"city\"><a href=\"/cities/toronto\" title=\"Toronto\">Canada</a></li><li class=\"city\"><a href=\"/cities/santiago\" title=\"Santiago\">Chile</a></li><li class=\"city\"><a href=\"/cities/helsinki-finland\" title=\"Helsinki\">Finland</a></li><li class=\"city\"><a href=\"/cities/paris\" title=\"Paris\">France</a></li><li class=\"city\"><a href=\"/cities/berlin\" title=\"Berlin\">Germany</a></li><li class=\"city\"><a href=\"/cities/london\" title=\"London\">Great Britain</a></li><li class=\"city\"><a href=\"/cities/budapest-hungary\" title=\"Budapest\">Hungary</a></li><li class=\"city\"><a href=\"/cities/jakarta\" title=\"Jakarta\">Indonesia</a></li><li class=\"city\"><a href=\"/cities/tokyo\" title=\"Tokyo\">Japan</a></li><li class=\"city\"><a href=\"/cities/mexico-city\" title=\"Mexico City\">Mexico</a></li><li class=\"city\"><a href=\"/cities/amsterdam-netherlands\" title=\"Amsterdam\">Netherlands</a></li><li class=\"city\"><a href=\"/cities/manila\" title=\"Manila\">Philippines</a></li><li class=\"city\"><a href=\"/cities/moscow\" title=\"Moscow\">Russia</a></li><li class=\"city\"><a href=\"/cities/singapore\" title=\"Singapore\">Singapore</a></li><li class=\"city\"><a href=\"/cities/barcelona-spain\" title=\"Barcelona\">Spain</a></li><li class=\"city\"><a href=\"/cities/bangkok\" title=\"Bangkok\">Thailand</a></li><li class=\"city\"><a href=\"/cities/istanbul\" title=\"Istanbul\">Turkey</a></li></ul></div></div><div style=\"position:absolute;top:-1000px;left:-1000px;height:1px;width:1px;\"><img height=\"1\" src=\"/private/wtrack?event=pltp-dep&amp;p=%2Ftop-places%2Fsan-francisco%2Fbest-korean-restaurants&amp;ref=&amp;ts=1557225836&amp;u=-1&amp;sig=JnkDPnBVzXiaJYCzCtU%2BMUArYJI%3D\" width=\"1\"/></div></div><script type=\"text/javascript\">_.each(fourSq.queue || [], function(fn) {fn();}); fourSq.queue = [];</script><script type=\"text/javascript\">branch.init('key_live_nmm2Ae8J1GbSQXu22I7FTohhuwnTL9R0'); branch.banner({icon: 'https://ss1.4sqi.net/img/metaIcons/touch-icon-72-cf2d6cd44afc49e9889ad54e33e69f31.png', title: '', description: 'Find the best places to eat, drink, shop and visit.', rating: 4.5, position: 'bottom', openAppButtonText: 'Get the App!', downloadAppButtonText: 'Get the App!', sendLinkText: 'TEXT ME THE APP', phonePreviewText: '+123 456 7890', showiOS: false, showiPad: false, showAndroid: false, showBlackberry: false, showWindowsPhone: false, showKindle: false, showDesktop: true, iframe: true, disableHide: false, forgetHide: false, respectDNT: true, mobileSticky: false, desktopSticky: true, make_new_link: false, open_app: false, customCSS: '#branch-banner .content { background: #14339C; font-family: Helvetica Neue, Helvetica, Verdana, Arial, sans-serif } #branch-banner .icon img { border-radius: 10px; height: 45px; width: 45px; margin: 10px; } #branch-banner .title { width: 100px; height: 15px; font-size: 14px; color: #14339C; background-image: url(\\\"https://ss1.4sqi.net/img/superusermarketinglanding/nav/foursquareLogo-3ef04a4f7d4cf37cfa372938fed5956b.png\"); background-repeat: no-repeat; background-location: left; background-size: 100%; vertical-align: center; margin-left: 118px;} #branch-banner .description { font-size: 12px; color: #FFFFFF} #branch-banner input {font-size: 16px; margin-right: 30px;} #branch-banner .button { border: 1px solid #89CC58; background: #89CC58; color: #FFFFFF; font-size: 16px; padding: 5px 35px;} #branch-banner-close { color: #FFFFFF; font-family: Helvetica Neue, Helvetica, Verdana, Arial, sans-serif; font-size: 30px; margin-left: 10px; top: 10px;} #branch-banner .reviews { color: #FFFFFF } #branch-banner .reviews .star svg { fill: #F4B73F; }'}, {channel: 'Desktop Text Me The App', campaign: 'Text Me the App', tags: ['',''], data: {'$deeplink_path': window.location.pathname}});</script><script type=\"text/javascript\">var listener = function(event, data) {data = data || {}; if (event === 'didShowBanner') {event = 'Banner Shown';} else if (event === 'didCloseBanner') {event = 'Banner Close'} else if (event === 'willSendBannerSMS') {event = 'Banner SMS Phone Number Successful'} else if (event === 'sendBannerSMSError') {event = 'Banner SMS Error'} else if (event === 'didSendBannerSMS') {event = 'Banner SMS Sent'} else if (event === 'didDownloadApp') {event = 'Branch Web - App Cookie Updated'} else if (event === 'willShowJourney') {event = 'Branch Journeys - Will Show Journey'} else if (event === 'didShowJourney') {event = 'Branch Journeys - Journey Impression'} else if (event === 'willNotShowJourney') {event = 'Branch Journeys - Will Not Show Journey'} else if (event === 'didClickJourneyCTA') {event = 'Branch Journeys - Journey CTA Click'} else if (event === 'didClickJourneyClose') {event = 'Branch Journeys - Journey Close button Click'} else if (event === 'willCloseJourney') {event = 'Branch Journeys - Journey Close Pending'} else if (event === 'didCloseJourney') {event = 'Branch Journeys - Journey Closed'} else if (event === 'didCallJourneyClose') {event = 'Branch Journeys - Programmatic Journey Close'}; if (window.mParticle) {window.mParticle.logEvent(event, mParticle.EventType.Navigation, data.journey_link_data);}}; branch.addListener('didShowBanner', listener); branch.addListener('didCloseBanner', listener); branch.addListener('willSendBannerSMS', listener); branch.addListener('sendBannerSMSError', listener); branch.addListener('didSendBannerSMS', listener); branch.addListener('didDownloadApp', listener); branch.addListener('willShowJourney', listener); branch.addListener('didShowJourney', listener); branch.addListener('willNotShowJourney', listener); branch.addListener('didClickJourneyCTA', listener); branch.addListener('didClickJourneyClose', listener); branch.addListener('willCloseJourney', listener); branch.addListener('didCloseJourney', listener); branch.addListener('didCallJourneyClose', listener);</script></body></html>"
      ]
     },
     "execution_count": 1,
     "metadata": {},
     "output_type": "execute_result"
    }
   ],
   "source": [
    "from bs4 import BeautifulSoup\n",
    "from urllib.request import urlopen\n",
    "\n",
    "html = urlopen(\"https://foursquare.com/top-places/san-francisco/best-korean-restaurants\")\n",
    "soup = BeautifulSoup(html, \"html.parser\")\n",
    "\n",
    "soup"
   ]
  },
  {
   "cell_type": "code",
   "execution_count": 2,
   "metadata": {},
   "outputs": [
    {
     "name": "stdout",
     "output_type": "stream",
     "text": [
      "[<div class=\"name\"><p class=\"venueName\"><a class=\"venueLink\" href=\"/v/daeho/5c687f93e1f0aa002c124962\" target=\"_blank\"><span class=\"rank\">1.</span> Daeho</a></p><div class=\"rating\"><span class=\"venueScore positive\" style=\"background-color: #00B551;\" title=\"9.0/10 - People like this place\"><span>9.0</span></span></div><div class=\"meta\"><span class=\"address\">1620 Post St, San Francisco, CA</span></div><div class=\"meta adjusted\"><span class=\"unlinkedCategory\">Korean Restaurant</span><span class=\"tipCount\"> · Japantown ·  8 tips and reviews</span></div></div>, <div class=\"name\"><p class=\"venueName\"><a class=\"venueLink\" href=\"/v/toyose/4a73619af964a52050dc1fe3\" target=\"_blank\"><span class=\"rank\">2.</span> Toyose</a></p><div class=\"rating\"><span class=\"venueScore positive\" style=\"background-color: #73CF42;\" title=\"8.8/10 - People like this place\"><span>8.8</span></span></div><div class=\"meta\"><span class=\"address\">3814 Noriega St (btwn 45th &amp; 46th Ave), San Francisco, CA</span></div><div class=\"meta adjusted\"><span class=\"unlinkedCategory\">Korean Restaurant</span><span class=\"tipCount\"> · Outer Sunset ·  89 tips and reviews</span></div></div>, <div class=\"name\"><p class=\"venueName\"><a class=\"venueLink\" href=\"/v/hrd/4a2937f2f964a52068951fe3\" target=\"_blank\"><span class=\"rank\">3.</span> HRD</a></p><div class=\"rating\"><span class=\"venueScore positive\" style=\"background-color: #73CF42;\" title=\"8.7/10 - People like this place\"><span>8.7</span></span></div><div class=\"meta\"><span class=\"address\">521A 3rd St (btwn Bryant St &amp; S Pk Ave), San Francisco, CA</span></div><div class=\"meta adjusted\"><span class=\"unlinkedCategory\">Korean Restaurant</span><span class=\"tipCount\"> · SoMa ·  249 tips and reviews</span></div></div>, <div class=\"name\"><p class=\"venueName\"><a class=\"venueLink\" href=\"/v/manna/4e0a83f41495b12d82382c71\" target=\"_blank\"><span class=\"rank\">4.</span> Manna</a></p><div class=\"rating\"><span class=\"venueScore positive\" style=\"background-color: #73CF42;\" title=\"8.7/10 - People like this place\"><span>8.7</span></span></div><div class=\"meta\"><span class=\"address\">845 Irving St (at 10th Ave), San Francisco, CA</span></div><div class=\"meta adjusted\"><span class=\"unlinkedCategory\">Korean Restaurant</span><span class=\"tipCount\"> · Inner Sunset ·  80 tips and reviews</span></div></div>, <div class=\"name\"><p class=\"venueName\"><a class=\"venueLink\" href=\"/v/han-il-kwan/46c5f703f964a520094a1fe3\" target=\"_blank\"><span class=\"rank\">5.</span> Han Il Kwan</a></p><div class=\"rating\"><span class=\"venueScore positive\" style=\"background-color: #73CF42;\" title=\"8.8/10 - People like this place\"><span>8.8</span></span></div><div class=\"meta\"><span class=\"address\">1802 Balboa St (at 19th Ave), San Francisco, CA</span></div><div class=\"meta adjusted\"><span class=\"unlinkedCategory\">Korean Restaurant</span><span class=\"tipCount\"> · Outer Richmond ·  68 tips and reviews</span></div></div>, <div class=\"name\"><p class=\"venueName\"><a class=\"venueLink\" href=\"/v/my-tofu-house/4387a580f964a5200f2b1fe3\" target=\"_blank\"><span class=\"rank\">6.</span> My Tofu House</a></p><div class=\"rating\"><span class=\"venueScore positive\" style=\"background-color: #73CF42;\" title=\"8.5/10 - People like this place\"><span>8.5</span></span></div><div class=\"meta\"><span class=\"address\">4627 Geary Blvd (btwn 10th &amp; 11th Ave), San Francisco, CA</span></div><div class=\"meta adjusted\"><span class=\"unlinkedCategory\">Korean Restaurant</span><span class=\"tipCount\"> · Inner Richmond ·  70 tips and reviews</span></div></div>, <div class=\"name\"><p class=\"venueName\"><a class=\"venueLink\" href=\"/v/brothers-korean-restaurant/3fd66200f964a520deec1ee3\" target=\"_blank\"><span class=\"rank\">7.</span> Brother's Korean Restaurant</a></p><div class=\"rating\"><span class=\"venueScore positive\" style=\"background-color: #73CF42;\" title=\"8.8/10 - People like this place\"><span>8.8</span></span></div><div class=\"meta\"><span class=\"address\">4128 Geary Blvd (between 5th Ave &amp; 6th Ave), San Francisco, CA</span></div><div class=\"meta adjusted\"><span class=\"unlinkedCategory\">Korean Restaurant</span><span class=\"tipCount\"> · Inner Richmond ·  54 tips and reviews</span></div></div>, <div class=\"name\"><p class=\"venueName\"><a class=\"venueLink\" href=\"/v/muguboka-korean-bbq/457c2ffff964a520003f1fe3\" target=\"_blank\"><span class=\"rank\">8.</span> Muguboka Korean BBQ</a></p><div class=\"rating\"><span class=\"venueScore positive\" style=\"background-color: #73CF42;\" title=\"8.4/10 - People like this place\"><span>8.4</span></span></div><div class=\"meta\"><span class=\"address\">401 Balboa St (at 5th Ave.), San Francisco, CA</span></div><div class=\"meta adjusted\"><span class=\"unlinkedCategory\">Korean Restaurant</span><span class=\"tipCount\"> · Inner Richmond ·  31 tips and reviews</span></div></div>, <div class=\"name\"><p class=\"venueName\"><a class=\"venueLink\" href=\"/v/namu-gaji/4f359f3b7beb8cc43414ab62\" target=\"_blank\"><span class=\"rank\">9.</span> Namu Gaji</a></p><div class=\"rating\"><span class=\"venueScore positive\" style=\"background-color: #73CF42;\" title=\"8.2/10 - People like this place\"><span>8.2</span></span></div><div class=\"meta\"><span class=\"address\">499 Dolores St (at 18th St), San Francisco, CA</span></div><div class=\"meta adjusted\"><span class=\"unlinkedCategory\">Korean Restaurant</span><span class=\"tipCount\"> · Mission Dolores ·  177 tips and reviews</span></div></div>, <div class=\"name\"><p class=\"venueName\"><a class=\"venueLink\" href=\"/v/tacorea/577709b1498ec87e7dcdb1f8\" target=\"_blank\"><span class=\"rank\">10.</span> Tacorea</a></p><div class=\"rating\"><span class=\"venueScore positive\" style=\"background-color: #73CF42;\" title=\"8.5/10 - People like this place\"><span>8.5</span></span></div><div class=\"meta\"><span class=\"address\">809 Bush St (at Mason St), San Francisco, CA</span></div><div class=\"meta adjusted\"><span class=\"unlinkedCategory\">Korean Restaurant</span><span class=\"tipCount\"> · Lower Nob Hill ·  60 tips and reviews</span></div></div>, <div class=\"name\"><p class=\"venueName\"><a class=\"venueLink\" href=\"/v/surisan/588510a1af7d1717ff95030a\" target=\"_blank\"><span class=\"rank\">11.</span> Surisan</a></p><div class=\"rating\"><span class=\"venueScore positive\" style=\"background-color: #73CF42;\" title=\"8.4/10 - People like this place\"><span>8.4</span></span></div><div class=\"meta\"><span class=\"address\">505 Beach St (Jones St), San Francisco, CA</span></div><div class=\"meta adjusted\"><span class=\"unlinkedCategory\">Korean Restaurant</span><span class=\"tipCount\"> · Fishermans Wharf ·  24 tips and reviews</span></div></div>, <div class=\"name\"><p class=\"venueName\"><a class=\"venueLink\" href=\"/v/cocobang/4a960947f964a520de2520e3\" target=\"_blank\"><span class=\"rank\">12.</span> Cocobang</a></p><div class=\"rating\"><span class=\"venueScore positive\" style=\"background-color: #73CF42;\" title=\"8.0/10 - People like this place\"><span>8.0</span></span></div><div class=\"meta\"><span class=\"address\">550 Taylor St (at Post St), San Francisco, CA</span></div><div class=\"meta adjusted\"><span class=\"unlinkedCategory\">Korean Restaurant</span><span class=\"tipCount\"> · Lower Nob Hill ·  83 tips and reviews</span></div></div>, <div class=\"name\"><p class=\"venueName\"><a class=\"venueLink\" href=\"/v/the-lucky-pig/5b4aa41d270ee7002cb61a85\" target=\"_blank\"><span class=\"rank\">13.</span> The Lucky Pig</a></p><div class=\"rating\"><span class=\"venueScore positive\" style=\"background-color: #73CF42;\" title=\"8.2/10 - People like this place\"><span>8.2</span></span></div><div class=\"meta\"><span class=\"address\">791 Ofarrell St (Larkin), San Francisco, CA</span></div><div class=\"meta adjusted\"><span class=\"unlinkedCategory\">Korean Restaurant</span><span class=\"tipCount\"> · Tenderloin ·  3 tips and reviews</span></div></div>, <div class=\"name\"><p class=\"venueName\"><a class=\"venueLink\" href=\"/v/namu-stonepot/596f7dac851de55ed93ce160\" target=\"_blank\"><span class=\"rank\">14.</span> Namu Stonepot</a></p><div class=\"rating\"><span class=\"venueScore positive\" style=\"background-color: #73CF42;\" title=\"8.0/10 - People like this place\"><span>8.0</span></span></div><div class=\"meta\"><span class=\"address\">553 Divisadero St (Hayes Street), San Francisco, CA</span></div><div class=\"meta adjusted\"><span class=\"unlinkedCategory\">Korean Restaurant</span><span class=\"tipCount\"> · Alamo Square ·  20 tips and reviews</span></div></div>, <div class=\"name\"><p class=\"venueName\"><a class=\"venueLink\" href=\"/v/koja-kitchen/5a0522a83af988764605d1dc\" target=\"_blank\"><span class=\"rank\">15.</span> Koja Kitchen</a></p><div class=\"rating\"><span class=\"venueScore positive\" style=\"background-color: #73CF42;\" title=\"8.2/10 - People like this place\"><span>8.2</span></span></div><div class=\"meta\"><span class=\"address\">865 Market St, San Francisco, CA</span></div><div class=\"meta adjusted\"><span class=\"unlinkedCategory\">Korean Restaurant</span><span class=\"tipCount\"> · SoMa ·  2 tips and reviews</span></div></div>]\n"
     ]
    }
   ],
   "source": [
    "print(soup.find_all('div', 'name'))"
   ]
  },
  {
   "cell_type": "code",
   "execution_count": 3,
   "metadata": {},
   "outputs": [
    {
     "data": {
      "text/plain": [
       "15"
      ]
     },
     "execution_count": 3,
     "metadata": {},
     "output_type": "execute_result"
    }
   ],
   "source": [
    "len(soup.find_all('div', 'name'))"
   ]
  },
  {
   "cell_type": "code",
   "execution_count": 4,
   "metadata": {},
   "outputs": [
    {
     "name": "stdout",
     "output_type": "stream",
     "text": [
      "<div class=\"name\"><p class=\"venueName\"><a class=\"venueLink\" href=\"/v/daeho/5c687f93e1f0aa002c124962\" target=\"_blank\"><span class=\"rank\">1.</span> Daeho</a></p><div class=\"rating\"><span class=\"venueScore positive\" style=\"background-color: #00B551;\" title=\"9.0/10 - People like this place\"><span>9.0</span></span></div><div class=\"meta\"><span class=\"address\">1620 Post St, San Francisco, CA</span></div><div class=\"meta adjusted\"><span class=\"unlinkedCategory\">Korean Restaurant</span><span class=\"tipCount\"> · Japantown ·  8 tips and reviews</span></div></div>\n"
     ]
    }
   ],
   "source": [
    "print(soup.find_all('div','name')[0])"
   ]
  },
  {
   "cell_type": "code",
   "execution_count": 5,
   "metadata": {},
   "outputs": [],
   "source": [
    "tmp_one = soup.find_all('div','name')[0]"
   ]
  },
  {
   "cell_type": "code",
   "execution_count": 6,
   "metadata": {},
   "outputs": [
    {
     "data": {
      "text/plain": [
       "<p class=\"venueName\"><a class=\"venueLink\" href=\"/v/daeho/5c687f93e1f0aa002c124962\" target=\"_blank\"><span class=\"rank\">1.</span> Daeho</a></p>"
      ]
     },
     "execution_count": 6,
     "metadata": {},
     "output_type": "execute_result"
    }
   ],
   "source": [
    "tmp_one.find(class_='venueName')"
   ]
  },
  {
   "cell_type": "code",
   "execution_count": 12,
   "metadata": {},
   "outputs": [
    {
     "data": {
      "text/plain": [
       "'1.'"
      ]
     },
     "execution_count": 12,
     "metadata": {},
     "output_type": "execute_result"
    }
   ],
   "source": [
    "tmp_one.find(class_='rank').get_text()"
   ]
  },
  {
   "cell_type": "code",
   "execution_count": 13,
   "metadata": {},
   "outputs": [
    {
     "data": {
      "text/plain": [
       "<a class=\"venueLink\" href=\"/v/daeho/5c687f93e1f0aa002c124962\" target=\"_blank\"><span class=\"rank\">1.</span> Daeho</a>"
      ]
     },
     "execution_count": 13,
     "metadata": {},
     "output_type": "execute_result"
    }
   ],
   "source": [
    "tmp_one.find('a')"
   ]
  },
  {
   "cell_type": "code",
   "execution_count": 15,
   "metadata": {},
   "outputs": [
    {
     "data": {
      "text/plain": [
       "<span class=\"rank\">1.</span>"
      ]
     },
     "execution_count": 15,
     "metadata": {},
     "output_type": "execute_result"
    }
   ],
   "source": [
    "tmp_one.find('span')"
   ]
  },
  {
   "cell_type": "code",
   "execution_count": 16,
   "metadata": {},
   "outputs": [
    {
     "data": {
      "text/plain": [
       "'/v/daeho/5c687f93e1f0aa002c124962'"
      ]
     },
     "execution_count": 16,
     "metadata": {},
     "output_type": "execute_result"
    }
   ],
   "source": [
    "tmp_one.find('a')['href']"
   ]
  },
  {
   "cell_type": "code",
   "execution_count": 25,
   "metadata": {},
   "outputs": [
    {
     "name": "stdout",
     "output_type": "stream",
     "text": [
      "daeho\n"
     ]
    }
   ],
   "source": [
    "import re\n",
    "\n",
    "tmp_string = tmp_one.find('a')['href']\n",
    "\n",
    "print(re.split(('/'), tmp_string)[2])"
   ]
  },
  {
   "cell_type": "code",
   "execution_count": 40,
   "metadata": {},
   "outputs": [],
   "source": [
    "from urllib.parse import urljoin \n",
    "\n",
    "rank = []\n",
    "rest_name = []\n",
    "rest_add = []\n",
    "url_add = []\n",
    "\n",
    "\n",
    "url_base = \"https://ko.foursquare.com\"\n",
    "\n",
    "list_soup = soup.find_all('div', 'name')\n",
    "\n",
    "for item in list_soup:\n",
    "    rank.append(item.find(class_='rank').get_text())\n",
    "    \n",
    "    tmp_string = item.find('a')['href']\n",
    "    \n",
    "    rest_name.append(re.split(('/'), tmp_string)[2])\n",
    "    url_add.append(urljoin(url_base, item.find('a')['href']))\n",
    "    \n",
    "    rest_add.append(item.find(class_='address').get_text())"
   ]
  },
  {
   "cell_type": "code",
   "execution_count": 41,
   "metadata": {},
   "outputs": [
    {
     "data": {
      "text/plain": [
       "['1.', '2.', '3.', '4.', '5.']"
      ]
     },
     "execution_count": 41,
     "metadata": {},
     "output_type": "execute_result"
    }
   ],
   "source": [
    "rank[:5]"
   ]
  },
  {
   "cell_type": "code",
   "execution_count": 42,
   "metadata": {},
   "outputs": [
    {
     "data": {
      "text/plain": [
       "['daeho', 'toyose', 'hrd', 'manna', 'han-il-kwan']"
      ]
     },
     "execution_count": 42,
     "metadata": {},
     "output_type": "execute_result"
    }
   ],
   "source": [
    "rest_name[:5]"
   ]
  },
  {
   "cell_type": "code",
   "execution_count": 43,
   "metadata": {},
   "outputs": [
    {
     "data": {
      "text/plain": [
       "['https://ko.foursquare.com/v/daeho/5c687f93e1f0aa002c124962',\n",
       " 'https://ko.foursquare.com/v/toyose/4a73619af964a52050dc1fe3',\n",
       " 'https://ko.foursquare.com/v/hrd/4a2937f2f964a52068951fe3',\n",
       " 'https://ko.foursquare.com/v/manna/4e0a83f41495b12d82382c71',\n",
       " 'https://ko.foursquare.com/v/han-il-kwan/46c5f703f964a520094a1fe3']"
      ]
     },
     "execution_count": 43,
     "metadata": {},
     "output_type": "execute_result"
    }
   ],
   "source": [
    "url_add[:5]"
   ]
  },
  {
   "cell_type": "code",
   "execution_count": 37,
   "metadata": {},
   "outputs": [
    {
     "data": {
      "text/plain": [
       "<div class=\"meta\"><span class=\"address\">1620 Post St, San Francisco, CA</span></div>"
      ]
     },
     "execution_count": 37,
     "metadata": {},
     "output_type": "execute_result"
    }
   ],
   "source": [
    "tmp_one.find(class_='meta')"
   ]
  },
  {
   "cell_type": "code",
   "execution_count": 39,
   "metadata": {},
   "outputs": [
    {
     "data": {
      "text/plain": [
       "'1620 Post St, San Francisco, CA'"
      ]
     },
     "execution_count": 39,
     "metadata": {},
     "output_type": "execute_result"
    }
   ],
   "source": [
    "tmp_one.find(class_='address').get_text()"
   ]
  },
  {
   "cell_type": "code",
   "execution_count": 44,
   "metadata": {},
   "outputs": [
    {
     "data": {
      "text/plain": [
       "['1620 Post St, San Francisco, CA',\n",
       " '3814 Noriega St (btwn 45th & 46th Ave), San Francisco, CA',\n",
       " '521A 3rd St (btwn Bryant St & S Pk Ave), San Francisco, CA',\n",
       " '845 Irving St (at 10th Ave), San Francisco, CA',\n",
       " '1802 Balboa St (at 19th Ave), San Francisco, CA']"
      ]
     },
     "execution_count": 44,
     "metadata": {},
     "output_type": "execute_result"
    }
   ],
   "source": [
    "rest_add[:5]"
   ]
  },
  {
   "cell_type": "code",
   "execution_count": 45,
   "metadata": {},
   "outputs": [
    {
     "data": {
      "text/plain": [
       "(15, 15, 15, 15)"
      ]
     },
     "execution_count": 45,
     "metadata": {},
     "output_type": "execute_result"
    }
   ],
   "source": [
    "len(rank), len(rest_name), len(rest_add), len(url_add)"
   ]
  },
  {
   "cell_type": "code",
   "execution_count": 48,
   "metadata": {},
   "outputs": [
    {
     "data": {
      "text/html": [
       "<div>\n",
       "<style scoped>\n",
       "    .dataframe tbody tr th:only-of-type {\n",
       "        vertical-align: middle;\n",
       "    }\n",
       "\n",
       "    .dataframe tbody tr th {\n",
       "        vertical-align: top;\n",
       "    }\n",
       "\n",
       "    .dataframe thead th {\n",
       "        text-align: right;\n",
       "    }\n",
       "</style>\n",
       "<table border=\"1\" class=\"dataframe\">\n",
       "  <thead>\n",
       "    <tr style=\"text-align: right;\">\n",
       "      <th></th>\n",
       "      <th>Rank</th>\n",
       "      <th>Name</th>\n",
       "      <th>Address</th>\n",
       "      <th>URL</th>\n",
       "    </tr>\n",
       "  </thead>\n",
       "  <tbody>\n",
       "    <tr>\n",
       "      <th>0</th>\n",
       "      <td>1.</td>\n",
       "      <td>daeho</td>\n",
       "      <td>1620 Post St, San Francisco, CA</td>\n",
       "      <td>https://ko.foursquare.com/v/daeho/5c687f93e1f0...</td>\n",
       "    </tr>\n",
       "    <tr>\n",
       "      <th>1</th>\n",
       "      <td>2.</td>\n",
       "      <td>toyose</td>\n",
       "      <td>3814 Noriega St (btwn 45th &amp; 46th Ave), San Fr...</td>\n",
       "      <td>https://ko.foursquare.com/v/toyose/4a73619af96...</td>\n",
       "    </tr>\n",
       "    <tr>\n",
       "      <th>2</th>\n",
       "      <td>3.</td>\n",
       "      <td>hrd</td>\n",
       "      <td>521A 3rd St (btwn Bryant St &amp; S Pk Ave), San F...</td>\n",
       "      <td>https://ko.foursquare.com/v/hrd/4a2937f2f964a5...</td>\n",
       "    </tr>\n",
       "    <tr>\n",
       "      <th>3</th>\n",
       "      <td>4.</td>\n",
       "      <td>manna</td>\n",
       "      <td>845 Irving St (at 10th Ave), San Francisco, CA</td>\n",
       "      <td>https://ko.foursquare.com/v/manna/4e0a83f41495...</td>\n",
       "    </tr>\n",
       "    <tr>\n",
       "      <th>4</th>\n",
       "      <td>5.</td>\n",
       "      <td>han-il-kwan</td>\n",
       "      <td>1802 Balboa St (at 19th Ave), San Francisco, CA</td>\n",
       "      <td>https://ko.foursquare.com/v/han-il-kwan/46c5f7...</td>\n",
       "    </tr>\n",
       "    <tr>\n",
       "      <th>5</th>\n",
       "      <td>6.</td>\n",
       "      <td>my-tofu-house</td>\n",
       "      <td>4627 Geary Blvd (btwn 10th &amp; 11th Ave), San Fr...</td>\n",
       "      <td>https://ko.foursquare.com/v/my-tofu-house/4387...</td>\n",
       "    </tr>\n",
       "    <tr>\n",
       "      <th>6</th>\n",
       "      <td>7.</td>\n",
       "      <td>brothers-korean-restaurant</td>\n",
       "      <td>4128 Geary Blvd (between 5th Ave &amp; 6th Ave), S...</td>\n",
       "      <td>https://ko.foursquare.com/v/brothers-korean-re...</td>\n",
       "    </tr>\n",
       "    <tr>\n",
       "      <th>7</th>\n",
       "      <td>8.</td>\n",
       "      <td>muguboka-korean-bbq</td>\n",
       "      <td>401 Balboa St (at 5th Ave.), San Francisco, CA</td>\n",
       "      <td>https://ko.foursquare.com/v/muguboka-korean-bb...</td>\n",
       "    </tr>\n",
       "    <tr>\n",
       "      <th>8</th>\n",
       "      <td>9.</td>\n",
       "      <td>namu-gaji</td>\n",
       "      <td>499 Dolores St (at 18th St), San Francisco, CA</td>\n",
       "      <td>https://ko.foursquare.com/v/namu-gaji/4f359f3b...</td>\n",
       "    </tr>\n",
       "    <tr>\n",
       "      <th>9</th>\n",
       "      <td>10.</td>\n",
       "      <td>tacorea</td>\n",
       "      <td>809 Bush St (at Mason St), San Francisco, CA</td>\n",
       "      <td>https://ko.foursquare.com/v/tacorea/577709b149...</td>\n",
       "    </tr>\n",
       "    <tr>\n",
       "      <th>10</th>\n",
       "      <td>11.</td>\n",
       "      <td>surisan</td>\n",
       "      <td>505 Beach St (Jones St), San Francisco, CA</td>\n",
       "      <td>https://ko.foursquare.com/v/surisan/588510a1af...</td>\n",
       "    </tr>\n",
       "    <tr>\n",
       "      <th>11</th>\n",
       "      <td>12.</td>\n",
       "      <td>cocobang</td>\n",
       "      <td>550 Taylor St (at Post St), San Francisco, CA</td>\n",
       "      <td>https://ko.foursquare.com/v/cocobang/4a960947f...</td>\n",
       "    </tr>\n",
       "    <tr>\n",
       "      <th>12</th>\n",
       "      <td>13.</td>\n",
       "      <td>the-lucky-pig</td>\n",
       "      <td>791 Ofarrell St (Larkin), San Francisco, CA</td>\n",
       "      <td>https://ko.foursquare.com/v/the-lucky-pig/5b4a...</td>\n",
       "    </tr>\n",
       "    <tr>\n",
       "      <th>13</th>\n",
       "      <td>14.</td>\n",
       "      <td>namu-stonepot</td>\n",
       "      <td>553 Divisadero St (Hayes Street), San Francisc...</td>\n",
       "      <td>https://ko.foursquare.com/v/namu-stonepot/596f...</td>\n",
       "    </tr>\n",
       "    <tr>\n",
       "      <th>14</th>\n",
       "      <td>15.</td>\n",
       "      <td>koja-kitchen</td>\n",
       "      <td>865 Market St, San Francisco, CA</td>\n",
       "      <td>https://ko.foursquare.com/v/koja-kitchen/5a052...</td>\n",
       "    </tr>\n",
       "  </tbody>\n",
       "</table>\n",
       "</div>"
      ],
      "text/plain": [
       "   Rank                        Name  \\\n",
       "0    1.                       daeho   \n",
       "1    2.                      toyose   \n",
       "2    3.                         hrd   \n",
       "3    4.                       manna   \n",
       "4    5.                 han-il-kwan   \n",
       "5    6.               my-tofu-house   \n",
       "6    7.  brothers-korean-restaurant   \n",
       "7    8.         muguboka-korean-bbq   \n",
       "8    9.                   namu-gaji   \n",
       "9   10.                     tacorea   \n",
       "10  11.                     surisan   \n",
       "11  12.                    cocobang   \n",
       "12  13.               the-lucky-pig   \n",
       "13  14.               namu-stonepot   \n",
       "14  15.                koja-kitchen   \n",
       "\n",
       "                                              Address  \\\n",
       "0                     1620 Post St, San Francisco, CA   \n",
       "1   3814 Noriega St (btwn 45th & 46th Ave), San Fr...   \n",
       "2   521A 3rd St (btwn Bryant St & S Pk Ave), San F...   \n",
       "3      845 Irving St (at 10th Ave), San Francisco, CA   \n",
       "4     1802 Balboa St (at 19th Ave), San Francisco, CA   \n",
       "5   4627 Geary Blvd (btwn 10th & 11th Ave), San Fr...   \n",
       "6   4128 Geary Blvd (between 5th Ave & 6th Ave), S...   \n",
       "7      401 Balboa St (at 5th Ave.), San Francisco, CA   \n",
       "8      499 Dolores St (at 18th St), San Francisco, CA   \n",
       "9        809 Bush St (at Mason St), San Francisco, CA   \n",
       "10         505 Beach St (Jones St), San Francisco, CA   \n",
       "11      550 Taylor St (at Post St), San Francisco, CA   \n",
       "12        791 Ofarrell St (Larkin), San Francisco, CA   \n",
       "13  553 Divisadero St (Hayes Street), San Francisc...   \n",
       "14                   865 Market St, San Francisco, CA   \n",
       "\n",
       "                                                  URL  \n",
       "0   https://ko.foursquare.com/v/daeho/5c687f93e1f0...  \n",
       "1   https://ko.foursquare.com/v/toyose/4a73619af96...  \n",
       "2   https://ko.foursquare.com/v/hrd/4a2937f2f964a5...  \n",
       "3   https://ko.foursquare.com/v/manna/4e0a83f41495...  \n",
       "4   https://ko.foursquare.com/v/han-il-kwan/46c5f7...  \n",
       "5   https://ko.foursquare.com/v/my-tofu-house/4387...  \n",
       "6   https://ko.foursquare.com/v/brothers-korean-re...  \n",
       "7   https://ko.foursquare.com/v/muguboka-korean-bb...  \n",
       "8   https://ko.foursquare.com/v/namu-gaji/4f359f3b...  \n",
       "9   https://ko.foursquare.com/v/tacorea/577709b149...  \n",
       "10  https://ko.foursquare.com/v/surisan/588510a1af...  \n",
       "11  https://ko.foursquare.com/v/cocobang/4a960947f...  \n",
       "12  https://ko.foursquare.com/v/the-lucky-pig/5b4a...  \n",
       "13  https://ko.foursquare.com/v/namu-stonepot/596f...  \n",
       "14  https://ko.foursquare.com/v/koja-kitchen/5a052...  "
      ]
     },
     "execution_count": 48,
     "metadata": {},
     "output_type": "execute_result"
    }
   ],
   "source": [
    "import pandas as pd\n",
    "\n",
    "data = {'Rank':rank, 'Name':rest_name, 'Address':rest_add, 'URL':url_add}\n",
    "df = pd.DataFrame(data)\n",
    "df"
   ]
  },
  {
   "cell_type": "code",
   "execution_count": 49,
   "metadata": {},
   "outputs": [],
   "source": [
    "df.to_csv('../data/03. best_korean_restaurants_list_sanfrancisco.csv', sep=',', encoding='UTF-8')"
   ]
  },
  {
   "cell_type": "code",
   "execution_count": 50,
   "metadata": {},
   "outputs": [
    {
     "data": {
      "text/html": [
       "<div>\n",
       "<style scoped>\n",
       "    .dataframe tbody tr th:only-of-type {\n",
       "        vertical-align: middle;\n",
       "    }\n",
       "\n",
       "    .dataframe tbody tr th {\n",
       "        vertical-align: top;\n",
       "    }\n",
       "\n",
       "    .dataframe thead th {\n",
       "        text-align: right;\n",
       "    }\n",
       "</style>\n",
       "<table border=\"1\" class=\"dataframe\">\n",
       "  <thead>\n",
       "    <tr style=\"text-align: right;\">\n",
       "      <th></th>\n",
       "      <th>Name</th>\n",
       "      <th>Address</th>\n",
       "      <th>URL</th>\n",
       "    </tr>\n",
       "    <tr>\n",
       "      <th>Rank</th>\n",
       "      <th></th>\n",
       "      <th></th>\n",
       "      <th></th>\n",
       "    </tr>\n",
       "  </thead>\n",
       "  <tbody>\n",
       "    <tr>\n",
       "      <th>1.</th>\n",
       "      <td>daeho</td>\n",
       "      <td>1620 Post St, San Francisco, CA</td>\n",
       "      <td>https://ko.foursquare.com/v/daeho/5c687f93e1f0...</td>\n",
       "    </tr>\n",
       "    <tr>\n",
       "      <th>2.</th>\n",
       "      <td>toyose</td>\n",
       "      <td>3814 Noriega St (btwn 45th &amp; 46th Ave), San Fr...</td>\n",
       "      <td>https://ko.foursquare.com/v/toyose/4a73619af96...</td>\n",
       "    </tr>\n",
       "    <tr>\n",
       "      <th>3.</th>\n",
       "      <td>hrd</td>\n",
       "      <td>521A 3rd St (btwn Bryant St &amp; S Pk Ave), San F...</td>\n",
       "      <td>https://ko.foursquare.com/v/hrd/4a2937f2f964a5...</td>\n",
       "    </tr>\n",
       "    <tr>\n",
       "      <th>4.</th>\n",
       "      <td>manna</td>\n",
       "      <td>845 Irving St (at 10th Ave), San Francisco, CA</td>\n",
       "      <td>https://ko.foursquare.com/v/manna/4e0a83f41495...</td>\n",
       "    </tr>\n",
       "    <tr>\n",
       "      <th>5.</th>\n",
       "      <td>han-il-kwan</td>\n",
       "      <td>1802 Balboa St (at 19th Ave), San Francisco, CA</td>\n",
       "      <td>https://ko.foursquare.com/v/han-il-kwan/46c5f7...</td>\n",
       "    </tr>\n",
       "    <tr>\n",
       "      <th>6.</th>\n",
       "      <td>my-tofu-house</td>\n",
       "      <td>4627 Geary Blvd (btwn 10th &amp; 11th Ave), San Fr...</td>\n",
       "      <td>https://ko.foursquare.com/v/my-tofu-house/4387...</td>\n",
       "    </tr>\n",
       "    <tr>\n",
       "      <th>7.</th>\n",
       "      <td>brothers-korean-restaurant</td>\n",
       "      <td>4128 Geary Blvd (between 5th Ave &amp; 6th Ave), S...</td>\n",
       "      <td>https://ko.foursquare.com/v/brothers-korean-re...</td>\n",
       "    </tr>\n",
       "    <tr>\n",
       "      <th>8.</th>\n",
       "      <td>muguboka-korean-bbq</td>\n",
       "      <td>401 Balboa St (at 5th Ave.), San Francisco, CA</td>\n",
       "      <td>https://ko.foursquare.com/v/muguboka-korean-bb...</td>\n",
       "    </tr>\n",
       "    <tr>\n",
       "      <th>9.</th>\n",
       "      <td>namu-gaji</td>\n",
       "      <td>499 Dolores St (at 18th St), San Francisco, CA</td>\n",
       "      <td>https://ko.foursquare.com/v/namu-gaji/4f359f3b...</td>\n",
       "    </tr>\n",
       "    <tr>\n",
       "      <th>10.</th>\n",
       "      <td>tacorea</td>\n",
       "      <td>809 Bush St (at Mason St), San Francisco, CA</td>\n",
       "      <td>https://ko.foursquare.com/v/tacorea/577709b149...</td>\n",
       "    </tr>\n",
       "    <tr>\n",
       "      <th>11.</th>\n",
       "      <td>surisan</td>\n",
       "      <td>505 Beach St (Jones St), San Francisco, CA</td>\n",
       "      <td>https://ko.foursquare.com/v/surisan/588510a1af...</td>\n",
       "    </tr>\n",
       "    <tr>\n",
       "      <th>12.</th>\n",
       "      <td>cocobang</td>\n",
       "      <td>550 Taylor St (at Post St), San Francisco, CA</td>\n",
       "      <td>https://ko.foursquare.com/v/cocobang/4a960947f...</td>\n",
       "    </tr>\n",
       "    <tr>\n",
       "      <th>13.</th>\n",
       "      <td>the-lucky-pig</td>\n",
       "      <td>791 Ofarrell St (Larkin), San Francisco, CA</td>\n",
       "      <td>https://ko.foursquare.com/v/the-lucky-pig/5b4a...</td>\n",
       "    </tr>\n",
       "    <tr>\n",
       "      <th>14.</th>\n",
       "      <td>namu-stonepot</td>\n",
       "      <td>553 Divisadero St (Hayes Street), San Francisc...</td>\n",
       "      <td>https://ko.foursquare.com/v/namu-stonepot/596f...</td>\n",
       "    </tr>\n",
       "    <tr>\n",
       "      <th>15.</th>\n",
       "      <td>koja-kitchen</td>\n",
       "      <td>865 Market St, San Francisco, CA</td>\n",
       "      <td>https://ko.foursquare.com/v/koja-kitchen/5a052...</td>\n",
       "    </tr>\n",
       "  </tbody>\n",
       "</table>\n",
       "</div>"
      ],
      "text/plain": [
       "                            Name  \\\n",
       "Rank                               \n",
       "1.                         daeho   \n",
       "2.                        toyose   \n",
       "3.                           hrd   \n",
       "4.                         manna   \n",
       "5.                   han-il-kwan   \n",
       "6.                 my-tofu-house   \n",
       "7.    brothers-korean-restaurant   \n",
       "8.           muguboka-korean-bbq   \n",
       "9.                     namu-gaji   \n",
       "10.                      tacorea   \n",
       "11.                      surisan   \n",
       "12.                     cocobang   \n",
       "13.                the-lucky-pig   \n",
       "14.                namu-stonepot   \n",
       "15.                 koja-kitchen   \n",
       "\n",
       "                                                Address  \\\n",
       "Rank                                                      \n",
       "1.                      1620 Post St, San Francisco, CA   \n",
       "2.    3814 Noriega St (btwn 45th & 46th Ave), San Fr...   \n",
       "3.    521A 3rd St (btwn Bryant St & S Pk Ave), San F...   \n",
       "4.       845 Irving St (at 10th Ave), San Francisco, CA   \n",
       "5.      1802 Balboa St (at 19th Ave), San Francisco, CA   \n",
       "6.    4627 Geary Blvd (btwn 10th & 11th Ave), San Fr...   \n",
       "7.    4128 Geary Blvd (between 5th Ave & 6th Ave), S...   \n",
       "8.       401 Balboa St (at 5th Ave.), San Francisco, CA   \n",
       "9.       499 Dolores St (at 18th St), San Francisco, CA   \n",
       "10.        809 Bush St (at Mason St), San Francisco, CA   \n",
       "11.          505 Beach St (Jones St), San Francisco, CA   \n",
       "12.       550 Taylor St (at Post St), San Francisco, CA   \n",
       "13.         791 Ofarrell St (Larkin), San Francisco, CA   \n",
       "14.   553 Divisadero St (Hayes Street), San Francisc...   \n",
       "15.                    865 Market St, San Francisco, CA   \n",
       "\n",
       "                                                    URL  \n",
       "Rank                                                     \n",
       "1.    https://ko.foursquare.com/v/daeho/5c687f93e1f0...  \n",
       "2.    https://ko.foursquare.com/v/toyose/4a73619af96...  \n",
       "3.    https://ko.foursquare.com/v/hrd/4a2937f2f964a5...  \n",
       "4.    https://ko.foursquare.com/v/manna/4e0a83f41495...  \n",
       "5.    https://ko.foursquare.com/v/han-il-kwan/46c5f7...  \n",
       "6.    https://ko.foursquare.com/v/my-tofu-house/4387...  \n",
       "7.    https://ko.foursquare.com/v/brothers-korean-re...  \n",
       "8.    https://ko.foursquare.com/v/muguboka-korean-bb...  \n",
       "9.    https://ko.foursquare.com/v/namu-gaji/4f359f3b...  \n",
       "10.   https://ko.foursquare.com/v/tacorea/577709b149...  \n",
       "11.   https://ko.foursquare.com/v/surisan/588510a1af...  \n",
       "12.   https://ko.foursquare.com/v/cocobang/4a960947f...  \n",
       "13.   https://ko.foursquare.com/v/the-lucky-pig/5b4a...  \n",
       "14.   https://ko.foursquare.com/v/namu-stonepot/596f...  \n",
       "15.   https://ko.foursquare.com/v/koja-kitchen/5a052...  "
      ]
     },
     "execution_count": 50,
     "metadata": {},
     "output_type": "execute_result"
    }
   ],
   "source": [
    "df.set_index('Rank', inplace=True)\n",
    "df"
   ]
  },
  {
   "cell_type": "code",
   "execution_count": 51,
   "metadata": {},
   "outputs": [],
   "source": [
    "df.to_csv('../data/03. best_korean_restaurants_list_sanfrancisco.csv', sep=',', encoding='UTF-8')"
   ]
  },
  {
   "cell_type": "code",
   "execution_count": 52,
   "metadata": {},
   "outputs": [
    {
     "data": {
      "text/html": [
       "<div>\n",
       "<style scoped>\n",
       "    .dataframe tbody tr th:only-of-type {\n",
       "        vertical-align: middle;\n",
       "    }\n",
       "\n",
       "    .dataframe tbody tr th {\n",
       "        vertical-align: top;\n",
       "    }\n",
       "\n",
       "    .dataframe thead th {\n",
       "        text-align: right;\n",
       "    }\n",
       "</style>\n",
       "<table border=\"1\" class=\"dataframe\">\n",
       "  <thead>\n",
       "    <tr style=\"text-align: right;\">\n",
       "      <th></th>\n",
       "      <th>Name</th>\n",
       "      <th>Address</th>\n",
       "      <th>URL</th>\n",
       "    </tr>\n",
       "    <tr>\n",
       "      <th>Rank</th>\n",
       "      <th></th>\n",
       "      <th></th>\n",
       "      <th></th>\n",
       "    </tr>\n",
       "  </thead>\n",
       "  <tbody>\n",
       "    <tr>\n",
       "      <th>1.</th>\n",
       "      <td>daeho</td>\n",
       "      <td>1620 Post St, San Francisco, CA</td>\n",
       "      <td>https://ko.foursquare.com/v/daeho/5c687f93e1f0...</td>\n",
       "    </tr>\n",
       "    <tr>\n",
       "      <th>2.</th>\n",
       "      <td>toyose</td>\n",
       "      <td>3814 Noriega St (btwn 45th &amp; 46th Ave), San Fr...</td>\n",
       "      <td>https://ko.foursquare.com/v/toyose/4a73619af96...</td>\n",
       "    </tr>\n",
       "    <tr>\n",
       "      <th>3.</th>\n",
       "      <td>hrd</td>\n",
       "      <td>521A 3rd St (btwn Bryant St &amp; S Pk Ave), San F...</td>\n",
       "      <td>https://ko.foursquare.com/v/hrd/4a2937f2f964a5...</td>\n",
       "    </tr>\n",
       "    <tr>\n",
       "      <th>4.</th>\n",
       "      <td>manna</td>\n",
       "      <td>845 Irving St (at 10th Ave), San Francisco, CA</td>\n",
       "      <td>https://ko.foursquare.com/v/manna/4e0a83f41495...</td>\n",
       "    </tr>\n",
       "    <tr>\n",
       "      <th>5.</th>\n",
       "      <td>han-il-kwan</td>\n",
       "      <td>1802 Balboa St (at 19th Ave), San Francisco, CA</td>\n",
       "      <td>https://ko.foursquare.com/v/han-il-kwan/46c5f7...</td>\n",
       "    </tr>\n",
       "    <tr>\n",
       "      <th>6.</th>\n",
       "      <td>my-tofu-house</td>\n",
       "      <td>4627 Geary Blvd (btwn 10th &amp; 11th Ave), San Fr...</td>\n",
       "      <td>https://ko.foursquare.com/v/my-tofu-house/4387...</td>\n",
       "    </tr>\n",
       "    <tr>\n",
       "      <th>7.</th>\n",
       "      <td>brothers-korean-restaurant</td>\n",
       "      <td>4128 Geary Blvd (between 5th Ave &amp; 6th Ave), S...</td>\n",
       "      <td>https://ko.foursquare.com/v/brothers-korean-re...</td>\n",
       "    </tr>\n",
       "    <tr>\n",
       "      <th>8.</th>\n",
       "      <td>muguboka-korean-bbq</td>\n",
       "      <td>401 Balboa St (at 5th Ave.), San Francisco, CA</td>\n",
       "      <td>https://ko.foursquare.com/v/muguboka-korean-bb...</td>\n",
       "    </tr>\n",
       "    <tr>\n",
       "      <th>9.</th>\n",
       "      <td>namu-gaji</td>\n",
       "      <td>499 Dolores St (at 18th St), San Francisco, CA</td>\n",
       "      <td>https://ko.foursquare.com/v/namu-gaji/4f359f3b...</td>\n",
       "    </tr>\n",
       "    <tr>\n",
       "      <th>10.</th>\n",
       "      <td>tacorea</td>\n",
       "      <td>809 Bush St (at Mason St), San Francisco, CA</td>\n",
       "      <td>https://ko.foursquare.com/v/tacorea/577709b149...</td>\n",
       "    </tr>\n",
       "    <tr>\n",
       "      <th>11.</th>\n",
       "      <td>surisan</td>\n",
       "      <td>505 Beach St (Jones St), San Francisco, CA</td>\n",
       "      <td>https://ko.foursquare.com/v/surisan/588510a1af...</td>\n",
       "    </tr>\n",
       "    <tr>\n",
       "      <th>12.</th>\n",
       "      <td>cocobang</td>\n",
       "      <td>550 Taylor St (at Post St), San Francisco, CA</td>\n",
       "      <td>https://ko.foursquare.com/v/cocobang/4a960947f...</td>\n",
       "    </tr>\n",
       "    <tr>\n",
       "      <th>13.</th>\n",
       "      <td>the-lucky-pig</td>\n",
       "      <td>791 Ofarrell St (Larkin), San Francisco, CA</td>\n",
       "      <td>https://ko.foursquare.com/v/the-lucky-pig/5b4a...</td>\n",
       "    </tr>\n",
       "    <tr>\n",
       "      <th>14.</th>\n",
       "      <td>namu-stonepot</td>\n",
       "      <td>553 Divisadero St (Hayes Street), San Francisc...</td>\n",
       "      <td>https://ko.foursquare.com/v/namu-stonepot/596f...</td>\n",
       "    </tr>\n",
       "    <tr>\n",
       "      <th>15.</th>\n",
       "      <td>koja-kitchen</td>\n",
       "      <td>865 Market St, San Francisco, CA</td>\n",
       "      <td>https://ko.foursquare.com/v/koja-kitchen/5a052...</td>\n",
       "    </tr>\n",
       "  </tbody>\n",
       "</table>\n",
       "</div>"
      ],
      "text/plain": [
       "                            Name  \\\n",
       "Rank                               \n",
       "1.                         daeho   \n",
       "2.                        toyose   \n",
       "3.                           hrd   \n",
       "4.                         manna   \n",
       "5.                   han-il-kwan   \n",
       "6.                 my-tofu-house   \n",
       "7.    brothers-korean-restaurant   \n",
       "8.           muguboka-korean-bbq   \n",
       "9.                     namu-gaji   \n",
       "10.                      tacorea   \n",
       "11.                      surisan   \n",
       "12.                     cocobang   \n",
       "13.                the-lucky-pig   \n",
       "14.                namu-stonepot   \n",
       "15.                 koja-kitchen   \n",
       "\n",
       "                                                Address  \\\n",
       "Rank                                                      \n",
       "1.                      1620 Post St, San Francisco, CA   \n",
       "2.    3814 Noriega St (btwn 45th & 46th Ave), San Fr...   \n",
       "3.    521A 3rd St (btwn Bryant St & S Pk Ave), San F...   \n",
       "4.       845 Irving St (at 10th Ave), San Francisco, CA   \n",
       "5.      1802 Balboa St (at 19th Ave), San Francisco, CA   \n",
       "6.    4627 Geary Blvd (btwn 10th & 11th Ave), San Fr...   \n",
       "7.    4128 Geary Blvd (between 5th Ave & 6th Ave), S...   \n",
       "8.       401 Balboa St (at 5th Ave.), San Francisco, CA   \n",
       "9.       499 Dolores St (at 18th St), San Francisco, CA   \n",
       "10.        809 Bush St (at Mason St), San Francisco, CA   \n",
       "11.          505 Beach St (Jones St), San Francisco, CA   \n",
       "12.       550 Taylor St (at Post St), San Francisco, CA   \n",
       "13.         791 Ofarrell St (Larkin), San Francisco, CA   \n",
       "14.   553 Divisadero St (Hayes Street), San Francisc...   \n",
       "15.                    865 Market St, San Francisco, CA   \n",
       "\n",
       "                                                    URL  \n",
       "Rank                                                     \n",
       "1.    https://ko.foursquare.com/v/daeho/5c687f93e1f0...  \n",
       "2.    https://ko.foursquare.com/v/toyose/4a73619af96...  \n",
       "3.    https://ko.foursquare.com/v/hrd/4a2937f2f964a5...  \n",
       "4.    https://ko.foursquare.com/v/manna/4e0a83f41495...  \n",
       "5.    https://ko.foursquare.com/v/han-il-kwan/46c5f7...  \n",
       "6.    https://ko.foursquare.com/v/my-tofu-house/4387...  \n",
       "7.    https://ko.foursquare.com/v/brothers-korean-re...  \n",
       "8.    https://ko.foursquare.com/v/muguboka-korean-bb...  \n",
       "9.    https://ko.foursquare.com/v/namu-gaji/4f359f3b...  \n",
       "10.   https://ko.foursquare.com/v/tacorea/577709b149...  \n",
       "11.   https://ko.foursquare.com/v/surisan/588510a1af...  \n",
       "12.   https://ko.foursquare.com/v/cocobang/4a960947f...  \n",
       "13.   https://ko.foursquare.com/v/the-lucky-pig/5b4a...  \n",
       "14.   https://ko.foursquare.com/v/namu-stonepot/596f...  \n",
       "15.   https://ko.foursquare.com/v/koja-kitchen/5a052...  "
      ]
     },
     "execution_count": 52,
     "metadata": {},
     "output_type": "execute_result"
    }
   ],
   "source": [
    "df"
   ]
  },
  {
   "cell_type": "code",
   "execution_count": 53,
   "metadata": {},
   "outputs": [],
   "source": [
    "import folium\n",
    "import pandas as pd\n",
    "import googlemaps\n",
    "import numpy as np"
   ]
  },
  {
   "cell_type": "code",
   "execution_count": 54,
   "metadata": {},
   "outputs": [],
   "source": [
    "gmaps_key = \"********\"\n",
    "gmaps = googlemaps.Client(key=gmaps_key)"
   ]
  },
  {
   "cell_type": "code",
   "execution_count": 59,
   "metadata": {},
   "outputs": [
    {
     "data": {
      "application/vnd.jupyter.widget-view+json": {
       "model_id": "efb1ad4884c9482b8f6070c9dfa44e90",
       "version_major": 2,
       "version_minor": 0
      },
      "text/plain": [
       "HBox(children=(IntProgress(value=0, max=15), HTML(value='')))"
      ]
     },
     "metadata": {},
     "output_type": "display_data"
    },
    {
     "name": "stdout",
     "output_type": "stream",
     "text": [
      "\n"
     ]
    },
    {
     "data": {
      "text/html": [
       "<div>\n",
       "<style scoped>\n",
       "    .dataframe tbody tr th:only-of-type {\n",
       "        vertical-align: middle;\n",
       "    }\n",
       "\n",
       "    .dataframe tbody tr th {\n",
       "        vertical-align: top;\n",
       "    }\n",
       "\n",
       "    .dataframe thead th {\n",
       "        text-align: right;\n",
       "    }\n",
       "</style>\n",
       "<table border=\"1\" class=\"dataframe\">\n",
       "  <thead>\n",
       "    <tr style=\"text-align: right;\">\n",
       "      <th></th>\n",
       "      <th>Name</th>\n",
       "      <th>Address</th>\n",
       "      <th>URL</th>\n",
       "      <th>lat</th>\n",
       "      <th>lng</th>\n",
       "    </tr>\n",
       "    <tr>\n",
       "      <th>Rank</th>\n",
       "      <th></th>\n",
       "      <th></th>\n",
       "      <th></th>\n",
       "      <th></th>\n",
       "      <th></th>\n",
       "    </tr>\n",
       "  </thead>\n",
       "  <tbody>\n",
       "    <tr>\n",
       "      <th>1.</th>\n",
       "      <td>daeho</td>\n",
       "      <td>1620 Post St, San Francisco, CA</td>\n",
       "      <td>https://ko.foursquare.com/v/daeho/5c687f93e1f0...</td>\n",
       "      <td>37.785881</td>\n",
       "      <td>-122.428565</td>\n",
       "    </tr>\n",
       "    <tr>\n",
       "      <th>2.</th>\n",
       "      <td>toyose</td>\n",
       "      <td>3814 Noriega St (btwn 45th &amp; 46th Ave), San Fr...</td>\n",
       "      <td>https://ko.foursquare.com/v/toyose/4a73619af96...</td>\n",
       "      <td>37.753192</td>\n",
       "      <td>-122.504688</td>\n",
       "    </tr>\n",
       "    <tr>\n",
       "      <th>3.</th>\n",
       "      <td>hrd</td>\n",
       "      <td>521A 3rd St (btwn Bryant St &amp; S Pk Ave), San F...</td>\n",
       "      <td>https://ko.foursquare.com/v/hrd/4a2937f2f964a5...</td>\n",
       "      <td>37.781099</td>\n",
       "      <td>-122.395352</td>\n",
       "    </tr>\n",
       "    <tr>\n",
       "      <th>4.</th>\n",
       "      <td>manna</td>\n",
       "      <td>845 Irving St (at 10th Ave), San Francisco, CA</td>\n",
       "      <td>https://ko.foursquare.com/v/manna/4e0a83f41495...</td>\n",
       "      <td>37.763852</td>\n",
       "      <td>-122.467235</td>\n",
       "    </tr>\n",
       "    <tr>\n",
       "      <th>5.</th>\n",
       "      <td>han-il-kwan</td>\n",
       "      <td>1802 Balboa St (at 19th Ave), San Francisco, CA</td>\n",
       "      <td>https://ko.foursquare.com/v/han-il-kwan/46c5f7...</td>\n",
       "      <td>37.776774</td>\n",
       "      <td>-122.478346</td>\n",
       "    </tr>\n",
       "  </tbody>\n",
       "</table>\n",
       "</div>"
      ],
      "text/plain": [
       "             Name                                            Address  \\\n",
       "Rank                                                                   \n",
       "1.          daeho                    1620 Post St, San Francisco, CA   \n",
       "2.         toyose  3814 Noriega St (btwn 45th & 46th Ave), San Fr...   \n",
       "3.            hrd  521A 3rd St (btwn Bryant St & S Pk Ave), San F...   \n",
       "4.          manna     845 Irving St (at 10th Ave), San Francisco, CA   \n",
       "5.    han-il-kwan    1802 Balboa St (at 19th Ave), San Francisco, CA   \n",
       "\n",
       "                                                    URL        lat         lng  \n",
       "Rank                                                                            \n",
       "1.    https://ko.foursquare.com/v/daeho/5c687f93e1f0...  37.785881 -122.428565  \n",
       "2.    https://ko.foursquare.com/v/toyose/4a73619af96...  37.753192 -122.504688  \n",
       "3.    https://ko.foursquare.com/v/hrd/4a2937f2f964a5...  37.781099 -122.395352  \n",
       "4.    https://ko.foursquare.com/v/manna/4e0a83f41495...  37.763852 -122.467235  \n",
       "5.    https://ko.foursquare.com/v/han-il-kwan/46c5f7...  37.776774 -122.478346  "
      ]
     },
     "execution_count": 59,
     "metadata": {},
     "output_type": "execute_result"
    }
   ],
   "source": [
    "from tqdm import tqdm_notebook\n",
    "\n",
    "lat = []\n",
    "lng = []\n",
    "\n",
    "for n in tqdm_notebook(df.index):\n",
    "    target_name = df['Address'][n]\n",
    "    gmaps_output = gmaps.geocode(target_name)\n",
    "    location_output = gmaps_output[0].get('geometry')\n",
    "    lat.append(location_output['location']['lat'])\n",
    "    lng.append(location_output['location']['lng'])\n",
    "\n",
    "df['lat'] = lat\n",
    "df['lng'] = lng\n",
    "df.head()"
   ]
  },
  {
   "cell_type": "code",
   "execution_count": 56,
   "metadata": {},
   "outputs": [
    {
     "data": {
      "text/plain": [
       "[37.7858813,\n",
       " 37.7531919,\n",
       " 37.781099,\n",
       " 37.763852,\n",
       " 37.7767742,\n",
       " 37.7806363,\n",
       " 37.7812516,\n",
       " 37.7771334,\n",
       " 37.7615907,\n",
       " 37.7898057,\n",
       " 37.8068169,\n",
       " 37.7876357,\n",
       " 37.7850428,\n",
       " 37.774722,\n",
       " 37.7839663]"
      ]
     },
     "execution_count": 56,
     "metadata": {},
     "output_type": "execute_result"
    }
   ],
   "source": [
    "lat"
   ]
  },
  {
   "cell_type": "code",
   "execution_count": 57,
   "metadata": {},
   "outputs": [
    {
     "data": {
      "text/plain": [
       "[-122.4285649,\n",
       " -122.5046876,\n",
       " -122.395352,\n",
       " -122.4672349,\n",
       " -122.4783458,\n",
       " -122.4691207,\n",
       " -122.4637955,\n",
       " -122.4631109,\n",
       " -122.4258785,\n",
       " -122.4107015,\n",
       " -122.417439,\n",
       " -122.4115134,\n",
       " -122.4174595,\n",
       " -122.4379432,\n",
       " -122.4075291]"
      ]
     },
     "execution_count": 57,
     "metadata": {},
     "output_type": "execute_result"
    }
   ],
   "source": [
    "lng"
   ]
  },
  {
   "cell_type": "code",
   "execution_count": 62,
   "metadata": {},
   "outputs": [
    {
     "data": {
      "text/html": [
       "<div style=\"width:100%;\"><div style=\"position:relative;width:100%;height:0;padding-bottom:60%;\"><iframe src=\"data:text/html;charset=utf-8;base64,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\" style=\"position:absolute;width:100%;height:100%;left:0;top:0;border:none !important;\" allowfullscreen webkitallowfullscreen mozallowfullscreen></iframe></div></div>"
      ],
      "text/plain": [
       "<folium.folium.Map at 0x1ef053bac50>"
      ]
     },
     "execution_count": 62,
     "metadata": {},
     "output_type": "execute_result"
    }
   ],
   "source": [
    "mapping = folium.Map(location=[df['lat'].mean(), df['lng'].mean()], zoom_start=12)\n",
    "folium.Marker([df['lat'].mean(), df['lng'].mean()], popup='center').add_to(mapping)\n",
    "mapping"
   ]
  },
  {
   "cell_type": "code",
   "execution_count": 66,
   "metadata": {},
   "outputs": [
    {
     "data": {
      "text/html": [
       "<div style=\"width:100%;\"><div style=\"position:relative;width:100%;height:0;padding-bottom:60%;\"><iframe src=\"data:text/html;charset=utf-8;base64,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\" style=\"position:absolute;width:100%;height:100%;left:0;top:0;border:none !important;\" allowfullscreen webkitallowfullscreen mozallowfullscreen></iframe></div></div>"
      ],
      "text/plain": [
       "<folium.folium.Map at 0x1ef053d2cc0>"
      ]
     },
     "execution_count": 66,
     "metadata": {},
     "output_type": "execute_result"
    }
   ],
   "source": [
    "mapping = folium.Map(location=[df['lat'].mean(), df['lng'].mean()], zoom_start=12)\n",
    "\n",
    "for n in df.index:\n",
    "    folium.Marker([df['lat'][n], df['lng'][n]], popup=df['Name'][n]).add_to(mapping)\n",
    "    \n",
    "mapping"
   ]
  },
  {
   "cell_type": "code",
   "execution_count": null,
   "metadata": {},
   "outputs": [],
   "source": []
  }
 ],
 "metadata": {
  "kernelspec": {
   "display_name": "Python 3",
   "language": "python",
   "name": "python3"
  },
  "language_info": {
   "codemirror_mode": {
    "name": "ipython",
    "version": 3
   },
   "file_extension": ".py",
   "mimetype": "text/x-python",
   "name": "python",
   "nbconvert_exporter": "python",
   "pygments_lexer": "ipython3",
   "version": "3.7.3"
  }
 },
 "nbformat": 4,
 "nbformat_minor": 2
}
