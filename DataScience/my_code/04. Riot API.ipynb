{
 "cells": [
  {
   "cell_type": "code",
   "execution_count": 2,
   "metadata": {},
   "outputs": [],
   "source": [
    "from selenium import webdriver\n",
    "\n",
    "# 라이엇게임즈 개발자페이지 접속\n",
    "driver = webdriver.Chrome('../driver/chromedriver')\n",
    "driver.get(\"https://developer.riotgames.com/\")"
   ]
  },
  {
   "cell_type": "code",
   "execution_count": 3,
   "metadata": {},
   "outputs": [],
   "source": [
    "# 로그인버튼 클릭\n",
    "xpath = \"\"\"//*[@id=\"site-navbar-collapse\"]/ul[2]/li/a/h3\"\"\"\n",
    "driver.find_element_by_xpath(xpath).click()"
   ]
  },
  {
   "cell_type": "code",
   "execution_count": 4,
   "metadata": {},
   "outputs": [],
   "source": [
    "# 유저네임, 패스워드 입력하고 KR 선택하고 로그인버튼 클릭\n",
    "elem_login_username = driver.find_element_by_xpath('//*[@id=\"rso-login-wrap\"]/div[1]/div[1]/span/div/form/div[1]/input')\n",
    "elem_login_username.clear()\n",
    "elem_login_username.send_keys('*********')\n",
    "\n",
    "elem_login_password = driver.find_element_by_xpath('//*[@id=\"rso-login-wrap\"]/div[1]/div[1]/span/div/form/div[2]/input')\n",
    "elem_login_password.clear()\n",
    "elem_login_password.send_keys('************')\n",
    "\n",
    "driver.find_element_by_xpath('//*[@id=\"region-selector\"]/span').click()\n",
    "driver.find_element_by_xpath('//*[@id=\"region-selector\"]/span/select/option[5]').click()\n",
    "driver.find_element_by_xpath('//*[@id=\"login-button\"]').click()"
   ]
  },
  {
   "cell_type": "code",
   "execution_count": 5,
   "metadata": {},
   "outputs": [],
   "source": []
  },
  {
   "cell_type": "code",
   "execution_count": 6,
   "metadata": {},
   "outputs": [],
   "source": []
  },
  {
   "cell_type": "code",
   "execution_count": null,
   "metadata": {},
   "outputs": [],
   "source": []
  }
 ],
 "metadata": {
  "kernelspec": {
   "display_name": "Python 3",
   "language": "python",
   "name": "python3"
  },
  "language_info": {
   "codemirror_mode": {
    "name": "ipython",
    "version": 3
   },
   "file_extension": ".py",
   "mimetype": "text/x-python",
   "name": "python",
   "nbconvert_exporter": "python",
   "pygments_lexer": "ipython3",
   "version": "3.7.3"
  }
 },
 "nbformat": 4,
 "nbformat_minor": 2
}
